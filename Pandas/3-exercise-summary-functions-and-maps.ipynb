{
 "cells": [
  {
   "cell_type": "markdown",
   "id": "a1d03e62",
   "metadata": {
    "papermill": {
     "duration": 0.019433,
     "end_time": "2021-12-01T12:15:49.493186",
     "exception": false,
     "start_time": "2021-12-01T12:15:49.473753",
     "status": "completed"
    },
    "tags": []
   },
   "source": [
    "**[Pandas Home Page](https://www.kaggle.com/learn/pandas)**\n",
    "\n",
    "---\n"
   ]
  },
  {
   "cell_type": "markdown",
   "id": "c9fd555a",
   "metadata": {
    "papermill": {
     "duration": 0.02015,
     "end_time": "2021-12-01T12:15:49.532091",
     "exception": false,
     "start_time": "2021-12-01T12:15:49.511941",
     "status": "completed"
    },
    "tags": []
   },
   "source": [
    "# Introduction\n",
    "\n",
    "Now you are ready to get a deeper understanding of your data.\n",
    "\n",
    "Run the following cell to load your data and some utility functions (including code to check your answers)."
   ]
  },
  {
   "cell_type": "code",
   "execution_count": 1,
   "id": "7754b95f",
   "metadata": {
    "execution": {
     "iopub.execute_input": "2021-12-01T12:15:49.574473Z",
     "iopub.status.busy": "2021-12-01T12:15:49.572672Z",
     "iopub.status.idle": "2021-12-01T12:15:57.330859Z",
     "shell.execute_reply": "2021-12-01T12:15:57.331381Z",
     "shell.execute_reply.started": "2021-11-28T12:13:17.223755Z"
    },
    "papermill": {
     "duration": 7.7815,
     "end_time": "2021-12-01T12:15:57.331672",
     "exception": false,
     "start_time": "2021-12-01T12:15:49.550172",
     "status": "completed"
    },
    "tags": []
   },
   "outputs": [
    {
     "name": "stdout",
     "output_type": "stream",
     "text": [
      "Setup complete.\n"
     ]
    },
    {
     "data": {
      "text/html": [
       "<div>\n",
       "<style scoped>\n",
       "    .dataframe tbody tr th:only-of-type {\n",
       "        vertical-align: middle;\n",
       "    }\n",
       "\n",
       "    .dataframe tbody tr th {\n",
       "        vertical-align: top;\n",
       "    }\n",
       "\n",
       "    .dataframe thead th {\n",
       "        text-align: right;\n",
       "    }\n",
       "</style>\n",
       "<table border=\"1\" class=\"dataframe\">\n",
       "  <thead>\n",
       "    <tr style=\"text-align: right;\">\n",
       "      <th></th>\n",
       "      <th>country</th>\n",
       "      <th>description</th>\n",
       "      <th>designation</th>\n",
       "      <th>points</th>\n",
       "      <th>price</th>\n",
       "      <th>province</th>\n",
       "      <th>region_1</th>\n",
       "      <th>region_2</th>\n",
       "      <th>taster_name</th>\n",
       "      <th>taster_twitter_handle</th>\n",
       "      <th>title</th>\n",
       "      <th>variety</th>\n",
       "      <th>winery</th>\n",
       "    </tr>\n",
       "  </thead>\n",
       "  <tbody>\n",
       "    <tr>\n",
       "      <th>0</th>\n",
       "      <td>Italy</td>\n",
       "      <td>Aromas include tropical fruit, broom, brimston...</td>\n",
       "      <td>Vulkà Bianco</td>\n",
       "      <td>87</td>\n",
       "      <td>NaN</td>\n",
       "      <td>Sicily &amp; Sardinia</td>\n",
       "      <td>Etna</td>\n",
       "      <td>NaN</td>\n",
       "      <td>Kerin O’Keefe</td>\n",
       "      <td>@kerinokeefe</td>\n",
       "      <td>Nicosia 2013 Vulkà Bianco  (Etna)</td>\n",
       "      <td>White Blend</td>\n",
       "      <td>Nicosia</td>\n",
       "    </tr>\n",
       "    <tr>\n",
       "      <th>1</th>\n",
       "      <td>Portugal</td>\n",
       "      <td>This is ripe and fruity, a wine that is smooth...</td>\n",
       "      <td>Avidagos</td>\n",
       "      <td>87</td>\n",
       "      <td>15.0</td>\n",
       "      <td>Douro</td>\n",
       "      <td>NaN</td>\n",
       "      <td>NaN</td>\n",
       "      <td>Roger Voss</td>\n",
       "      <td>@vossroger</td>\n",
       "      <td>Quinta dos Avidagos 2011 Avidagos Red (Douro)</td>\n",
       "      <td>Portuguese Red</td>\n",
       "      <td>Quinta dos Avidagos</td>\n",
       "    </tr>\n",
       "    <tr>\n",
       "      <th>2</th>\n",
       "      <td>US</td>\n",
       "      <td>Tart and snappy, the flavors of lime flesh and...</td>\n",
       "      <td>NaN</td>\n",
       "      <td>87</td>\n",
       "      <td>14.0</td>\n",
       "      <td>Oregon</td>\n",
       "      <td>Willamette Valley</td>\n",
       "      <td>Willamette Valley</td>\n",
       "      <td>Paul Gregutt</td>\n",
       "      <td>@paulgwine</td>\n",
       "      <td>Rainstorm 2013 Pinot Gris (Willamette Valley)</td>\n",
       "      <td>Pinot Gris</td>\n",
       "      <td>Rainstorm</td>\n",
       "    </tr>\n",
       "    <tr>\n",
       "      <th>3</th>\n",
       "      <td>US</td>\n",
       "      <td>Pineapple rind, lemon pith and orange blossom ...</td>\n",
       "      <td>Reserve Late Harvest</td>\n",
       "      <td>87</td>\n",
       "      <td>13.0</td>\n",
       "      <td>Michigan</td>\n",
       "      <td>Lake Michigan Shore</td>\n",
       "      <td>NaN</td>\n",
       "      <td>Alexander Peartree</td>\n",
       "      <td>NaN</td>\n",
       "      <td>St. Julian 2013 Reserve Late Harvest Riesling ...</td>\n",
       "      <td>Riesling</td>\n",
       "      <td>St. Julian</td>\n",
       "    </tr>\n",
       "    <tr>\n",
       "      <th>4</th>\n",
       "      <td>US</td>\n",
       "      <td>Much like the regular bottling from 2012, this...</td>\n",
       "      <td>Vintner's Reserve Wild Child Block</td>\n",
       "      <td>87</td>\n",
       "      <td>65.0</td>\n",
       "      <td>Oregon</td>\n",
       "      <td>Willamette Valley</td>\n",
       "      <td>Willamette Valley</td>\n",
       "      <td>Paul Gregutt</td>\n",
       "      <td>@paulgwine</td>\n",
       "      <td>Sweet Cheeks 2012 Vintner's Reserve Wild Child...</td>\n",
       "      <td>Pinot Noir</td>\n",
       "      <td>Sweet Cheeks</td>\n",
       "    </tr>\n",
       "  </tbody>\n",
       "</table>\n",
       "</div>"
      ],
      "text/plain": [
       "    country                                        description  \\\n",
       "0     Italy  Aromas include tropical fruit, broom, brimston...   \n",
       "1  Portugal  This is ripe and fruity, a wine that is smooth...   \n",
       "2        US  Tart and snappy, the flavors of lime flesh and...   \n",
       "3        US  Pineapple rind, lemon pith and orange blossom ...   \n",
       "4        US  Much like the regular bottling from 2012, this...   \n",
       "\n",
       "                          designation  points  price           province  \\\n",
       "0                        Vulkà Bianco      87    NaN  Sicily & Sardinia   \n",
       "1                            Avidagos      87   15.0              Douro   \n",
       "2                                 NaN      87   14.0             Oregon   \n",
       "3                Reserve Late Harvest      87   13.0           Michigan   \n",
       "4  Vintner's Reserve Wild Child Block      87   65.0             Oregon   \n",
       "\n",
       "              region_1           region_2         taster_name  \\\n",
       "0                 Etna                NaN       Kerin O’Keefe   \n",
       "1                  NaN                NaN          Roger Voss   \n",
       "2    Willamette Valley  Willamette Valley        Paul Gregutt   \n",
       "3  Lake Michigan Shore                NaN  Alexander Peartree   \n",
       "4    Willamette Valley  Willamette Valley        Paul Gregutt   \n",
       "\n",
       "  taster_twitter_handle                                              title  \\\n",
       "0          @kerinokeefe                  Nicosia 2013 Vulkà Bianco  (Etna)   \n",
       "1            @vossroger      Quinta dos Avidagos 2011 Avidagos Red (Douro)   \n",
       "2           @paulgwine       Rainstorm 2013 Pinot Gris (Willamette Valley)   \n",
       "3                   NaN  St. Julian 2013 Reserve Late Harvest Riesling ...   \n",
       "4           @paulgwine   Sweet Cheeks 2012 Vintner's Reserve Wild Child...   \n",
       "\n",
       "          variety               winery  \n",
       "0     White Blend              Nicosia  \n",
       "1  Portuguese Red  Quinta dos Avidagos  \n",
       "2      Pinot Gris            Rainstorm  \n",
       "3        Riesling           St. Julian  \n",
       "4      Pinot Noir         Sweet Cheeks  "
      ]
     },
     "execution_count": 1,
     "metadata": {},
     "output_type": "execute_result"
    }
   ],
   "source": [
    "import pandas as pd\n",
    "pd.set_option(\"display.max_rows\", 5)\n",
    "reviews = pd.read_csv(\"../input/wine-reviews/winemag-data-130k-v2.csv\", index_col=0)\n",
    "\n",
    "from learntools.core import binder; binder.bind(globals())\n",
    "from learntools.pandas.summary_functions_and_maps import *\n",
    "print(\"Setup complete.\")\n",
    "\n",
    "reviews.head()"
   ]
  },
  {
   "cell_type": "markdown",
   "id": "2734e913",
   "metadata": {
    "papermill": {
     "duration": 0.019033,
     "end_time": "2021-12-01T12:15:57.370664",
     "exception": false,
     "start_time": "2021-12-01T12:15:57.351631",
     "status": "completed"
    },
    "tags": []
   },
   "source": [
    "# Exercises"
   ]
  },
  {
   "cell_type": "markdown",
   "id": "4a5eba36",
   "metadata": {
    "papermill": {
     "duration": 0.019106,
     "end_time": "2021-12-01T12:15:57.409103",
     "exception": false,
     "start_time": "2021-12-01T12:15:57.389997",
     "status": "completed"
    },
    "tags": []
   },
   "source": [
    "## 1.\n",
    "\n",
    "What is the median of the `points` column in the `reviews` DataFrame?"
   ]
  },
  {
   "cell_type": "code",
   "execution_count": 2,
   "id": "dd3021ef",
   "metadata": {
    "execution": {
     "iopub.execute_input": "2021-12-01T12:15:57.450711Z",
     "iopub.status.busy": "2021-12-01T12:15:57.450091Z",
     "iopub.status.idle": "2021-12-01T12:15:57.457244Z",
     "shell.execute_reply": "2021-12-01T12:15:57.457836Z",
     "shell.execute_reply.started": "2021-11-28T12:13:23.270268Z"
    },
    "papermill": {
     "duration": 0.029586,
     "end_time": "2021-12-01T12:15:57.458012",
     "exception": false,
     "start_time": "2021-12-01T12:15:57.428426",
     "status": "completed"
    },
    "tags": []
   },
   "outputs": [
    {
     "data": {
      "application/javascript": [
       "parent.postMessage({\"jupyterEvent\": \"custom.exercise_interaction\", \"data\": {\"outcomeType\": 1, \"valueTowardsCompletion\": 0.14285714285714285, \"interactionType\": 1, \"questionType\": 1, \"questionId\": \"1_MedianPoints\", \"learnToolsVersion\": \"0.3.4\", \"failureMessage\": \"\", \"exceptionClass\": \"\", \"trace\": \"\"}}, \"*\")"
      ],
      "text/plain": [
       "<IPython.core.display.Javascript object>"
      ]
     },
     "metadata": {},
     "output_type": "display_data"
    },
    {
     "data": {
      "text/markdown": [
       "<span style=\"color:#33cc33\">Correct</span>"
      ],
      "text/plain": [
       "Correct"
      ]
     },
     "metadata": {},
     "output_type": "display_data"
    }
   ],
   "source": [
    "median_points = reviews.points.median()\n",
    "\n",
    "# Check your answer\n",
    "q1.check()"
   ]
  },
  {
   "cell_type": "code",
   "execution_count": 3,
   "id": "51d7b5e0",
   "metadata": {
    "execution": {
     "iopub.execute_input": "2021-12-01T12:15:57.501876Z",
     "iopub.status.busy": "2021-12-01T12:15:57.501265Z",
     "iopub.status.idle": "2021-12-01T12:15:57.509682Z",
     "shell.execute_reply": "2021-12-01T12:15:57.510289Z",
     "shell.execute_reply.started": "2021-11-28T12:13:23.280265Z"
    },
    "papermill": {
     "duration": 0.031961,
     "end_time": "2021-12-01T12:15:57.510448",
     "exception": false,
     "start_time": "2021-12-01T12:15:57.478487",
     "status": "completed"
    },
    "tags": []
   },
   "outputs": [
    {
     "data": {
      "application/javascript": [
       "parent.postMessage({\"jupyterEvent\": \"custom.exercise_interaction\", \"data\": {\"interactionType\": 2, \"questionType\": 1, \"questionId\": \"1_MedianPoints\", \"learnToolsVersion\": \"0.3.4\", \"valueTowardsCompletion\": 0.0, \"failureMessage\": \"\", \"exceptionClass\": \"\", \"trace\": \"\", \"outcomeType\": 4}}, \"*\")"
      ],
      "text/plain": [
       "<IPython.core.display.Javascript object>"
      ]
     },
     "metadata": {},
     "output_type": "display_data"
    },
    {
     "data": {
      "text/markdown": [
       "<span style=\"color:#3366cc\">Hint:</span> Use the `median` function (a built-in `pandas` function, like the `mean` function or the `unique` function)."
      ],
      "text/plain": [
       "Hint: Use the `median` function (a built-in `pandas` function, like the `mean` function or the `unique` function)."
      ]
     },
     "metadata": {},
     "output_type": "display_data"
    },
    {
     "data": {
      "application/javascript": [
       "parent.postMessage({\"jupyterEvent\": \"custom.exercise_interaction\", \"data\": {\"interactionType\": 3, \"questionType\": 1, \"questionId\": \"1_MedianPoints\", \"learnToolsVersion\": \"0.3.4\", \"valueTowardsCompletion\": 0.0, \"failureMessage\": \"\", \"exceptionClass\": \"\", \"trace\": \"\", \"outcomeType\": 4}}, \"*\")"
      ],
      "text/plain": [
       "<IPython.core.display.Javascript object>"
      ]
     },
     "metadata": {},
     "output_type": "display_data"
    },
    {
     "data": {
      "text/markdown": [
       "<span style=\"color:#33cc99\">Solution:</span> \n",
       "```python\n",
       "median_points = reviews.points.median()\n",
       "```"
      ],
      "text/plain": [
       "Solution: \n",
       "```python\n",
       "median_points = reviews.points.median()\n",
       "```"
      ]
     },
     "metadata": {},
     "output_type": "display_data"
    }
   ],
   "source": [
    "q1.hint()\n",
    "q1.solution()"
   ]
  },
  {
   "cell_type": "markdown",
   "id": "5499920b",
   "metadata": {
    "papermill": {
     "duration": 0.021722,
     "end_time": "2021-12-01T12:15:57.554176",
     "exception": false,
     "start_time": "2021-12-01T12:15:57.532454",
     "status": "completed"
    },
    "tags": []
   },
   "source": [
    "## 2. \n",
    "What countries are represented in the dataset? (Your answer should not include any duplicates.)"
   ]
  },
  {
   "cell_type": "code",
   "execution_count": 4,
   "id": "b1938aae",
   "metadata": {
    "execution": {
     "iopub.execute_input": "2021-12-01T12:15:57.601464Z",
     "iopub.status.busy": "2021-12-01T12:15:57.600838Z",
     "iopub.status.idle": "2021-12-01T12:15:57.620840Z",
     "shell.execute_reply": "2021-12-01T12:15:57.620313Z",
     "shell.execute_reply.started": "2021-11-28T12:13:23.287001Z"
    },
    "papermill": {
     "duration": 0.044748,
     "end_time": "2021-12-01T12:15:57.620983",
     "exception": false,
     "start_time": "2021-12-01T12:15:57.576235",
     "status": "completed"
    },
    "tags": []
   },
   "outputs": [
    {
     "data": {
      "application/javascript": [
       "parent.postMessage({\"jupyterEvent\": \"custom.exercise_interaction\", \"data\": {\"outcomeType\": 1, \"valueTowardsCompletion\": 0.14285714285714285, \"interactionType\": 1, \"questionType\": 2, \"questionId\": \"2_UniqueCountries\", \"learnToolsVersion\": \"0.3.4\", \"failureMessage\": \"\", \"exceptionClass\": \"\", \"trace\": \"\"}}, \"*\")"
      ],
      "text/plain": [
       "<IPython.core.display.Javascript object>"
      ]
     },
     "metadata": {},
     "output_type": "display_data"
    },
    {
     "data": {
      "text/markdown": [
       "<span style=\"color:#33cc33\">Correct</span>"
      ],
      "text/plain": [
       "Correct"
      ]
     },
     "metadata": {},
     "output_type": "display_data"
    }
   ],
   "source": [
    "countries = reviews.country.unique()\n",
    "\n",
    "# Check your answer\n",
    "q2.check()"
   ]
  },
  {
   "cell_type": "code",
   "execution_count": 5,
   "id": "cf3afc16",
   "metadata": {
    "execution": {
     "iopub.execute_input": "2021-12-01T12:15:57.672608Z",
     "iopub.status.busy": "2021-12-01T12:15:57.671682Z",
     "iopub.status.idle": "2021-12-01T12:15:57.679760Z",
     "shell.execute_reply": "2021-12-01T12:15:57.680259Z",
     "shell.execute_reply.started": "2021-11-28T12:13:23.307848Z"
    },
    "papermill": {
     "duration": 0.0364,
     "end_time": "2021-12-01T12:15:57.680420",
     "exception": false,
     "start_time": "2021-12-01T12:15:57.644020",
     "status": "completed"
    },
    "tags": []
   },
   "outputs": [
    {
     "data": {
      "application/javascript": [
       "parent.postMessage({\"jupyterEvent\": \"custom.exercise_interaction\", \"data\": {\"interactionType\": 2, \"questionType\": 2, \"questionId\": \"2_UniqueCountries\", \"learnToolsVersion\": \"0.3.4\", \"valueTowardsCompletion\": 0.0, \"failureMessage\": \"\", \"exceptionClass\": \"\", \"trace\": \"\", \"outcomeType\": 4}}, \"*\")"
      ],
      "text/plain": [
       "<IPython.core.display.Javascript object>"
      ]
     },
     "metadata": {},
     "output_type": "display_data"
    },
    {
     "data": {
      "text/markdown": [
       "<span style=\"color:#3366cc\">Hint:</span> Use the `unique` function to get a list of unique entries in a column."
      ],
      "text/plain": [
       "Hint: Use the `unique` function to get a list of unique entries in a column."
      ]
     },
     "metadata": {},
     "output_type": "display_data"
    },
    {
     "data": {
      "application/javascript": [
       "parent.postMessage({\"jupyterEvent\": \"custom.exercise_interaction\", \"data\": {\"interactionType\": 3, \"questionType\": 2, \"questionId\": \"2_UniqueCountries\", \"learnToolsVersion\": \"0.3.4\", \"valueTowardsCompletion\": 0.0, \"failureMessage\": \"\", \"exceptionClass\": \"\", \"trace\": \"\", \"outcomeType\": 4}}, \"*\")"
      ],
      "text/plain": [
       "<IPython.core.display.Javascript object>"
      ]
     },
     "metadata": {},
     "output_type": "display_data"
    },
    {
     "data": {
      "text/markdown": [
       "<span style=\"color:#33cc99\">Solution:</span> \n",
       "```python\n",
       "countries = reviews.country.unique()\n",
       "```"
      ],
      "text/plain": [
       "Solution: \n",
       "```python\n",
       "countries = reviews.country.unique()\n",
       "```"
      ]
     },
     "metadata": {},
     "output_type": "display_data"
    }
   ],
   "source": [
    "q2.hint()\n",
    "q2.solution()"
   ]
  },
  {
   "cell_type": "markdown",
   "id": "a87e1e77",
   "metadata": {
    "papermill": {
     "duration": 0.024627,
     "end_time": "2021-12-01T12:15:57.730130",
     "exception": false,
     "start_time": "2021-12-01T12:15:57.705503",
     "status": "completed"
    },
    "tags": []
   },
   "source": [
    "## 3.\n",
    "How often does each country appear in the dataset? Create a Series `reviews_per_country` mapping countries to the count of reviews of wines from that country."
   ]
  },
  {
   "cell_type": "code",
   "execution_count": 6,
   "id": "19785737",
   "metadata": {
    "execution": {
     "iopub.execute_input": "2021-12-01T12:15:57.804548Z",
     "iopub.status.busy": "2021-12-01T12:15:57.782810Z",
     "iopub.status.idle": "2021-12-01T12:15:57.808149Z",
     "shell.execute_reply": "2021-12-01T12:15:57.808749Z",
     "shell.execute_reply.started": "2021-11-28T12:13:23.313636Z"
    },
    "papermill": {
     "duration": 0.053803,
     "end_time": "2021-12-01T12:15:57.808916",
     "exception": false,
     "start_time": "2021-12-01T12:15:57.755113",
     "status": "completed"
    },
    "tags": []
   },
   "outputs": [
    {
     "data": {
      "application/javascript": [
       "parent.postMessage({\"jupyterEvent\": \"custom.exercise_interaction\", \"data\": {\"outcomeType\": 1, \"valueTowardsCompletion\": 0.14285714285714285, \"interactionType\": 1, \"questionType\": 1, \"questionId\": \"3_ReviewsPerCountry\", \"learnToolsVersion\": \"0.3.4\", \"failureMessage\": \"\", \"exceptionClass\": \"\", \"trace\": \"\"}}, \"*\")"
      ],
      "text/plain": [
       "<IPython.core.display.Javascript object>"
      ]
     },
     "metadata": {},
     "output_type": "display_data"
    },
    {
     "data": {
      "text/markdown": [
       "<span style=\"color:#33cc33\">Correct</span>"
      ],
      "text/plain": [
       "Correct"
      ]
     },
     "metadata": {},
     "output_type": "display_data"
    }
   ],
   "source": [
    "reviews_per_country = reviews.country.value_counts()\n",
    "\n",
    "# Check your answer\n",
    "q3.check()"
   ]
  },
  {
   "cell_type": "code",
   "execution_count": 7,
   "id": "392730b4",
   "metadata": {
    "execution": {
     "iopub.execute_input": "2021-12-01T12:15:57.863986Z",
     "iopub.status.busy": "2021-12-01T12:15:57.863320Z",
     "iopub.status.idle": "2021-12-01T12:15:57.871048Z",
     "shell.execute_reply": "2021-12-01T12:15:57.871565Z",
     "shell.execute_reply.started": "2021-11-28T12:13:23.339581Z"
    },
    "papermill": {
     "duration": 0.03679,
     "end_time": "2021-12-01T12:15:57.871762",
     "exception": false,
     "start_time": "2021-12-01T12:15:57.834972",
     "status": "completed"
    },
    "tags": []
   },
   "outputs": [
    {
     "data": {
      "application/javascript": [
       "parent.postMessage({\"jupyterEvent\": \"custom.exercise_interaction\", \"data\": {\"interactionType\": 2, \"questionType\": 1, \"questionId\": \"3_ReviewsPerCountry\", \"learnToolsVersion\": \"0.3.4\", \"valueTowardsCompletion\": 0.0, \"failureMessage\": \"\", \"exceptionClass\": \"\", \"trace\": \"\", \"outcomeType\": 4}}, \"*\")"
      ],
      "text/plain": [
       "<IPython.core.display.Javascript object>"
      ]
     },
     "metadata": {},
     "output_type": "display_data"
    },
    {
     "data": {
      "text/markdown": [
       "<span style=\"color:#3366cc\">Hint:</span> To see a list of unique values and how often they occur in a Series, use the `value_counts` method."
      ],
      "text/plain": [
       "Hint: To see a list of unique values and how often they occur in a Series, use the `value_counts` method."
      ]
     },
     "metadata": {},
     "output_type": "display_data"
    },
    {
     "data": {
      "application/javascript": [
       "parent.postMessage({\"jupyterEvent\": \"custom.exercise_interaction\", \"data\": {\"interactionType\": 3, \"questionType\": 1, \"questionId\": \"3_ReviewsPerCountry\", \"learnToolsVersion\": \"0.3.4\", \"valueTowardsCompletion\": 0.0, \"failureMessage\": \"\", \"exceptionClass\": \"\", \"trace\": \"\", \"outcomeType\": 4}}, \"*\")"
      ],
      "text/plain": [
       "<IPython.core.display.Javascript object>"
      ]
     },
     "metadata": {},
     "output_type": "display_data"
    },
    {
     "data": {
      "text/markdown": [
       "<span style=\"color:#33cc99\">Solution:</span> \n",
       "```python\n",
       "reviews_per_country = reviews.country.value_counts()\n",
       "```"
      ],
      "text/plain": [
       "Solution: \n",
       "```python\n",
       "reviews_per_country = reviews.country.value_counts()\n",
       "```"
      ]
     },
     "metadata": {},
     "output_type": "display_data"
    }
   ],
   "source": [
    "q3.hint()\n",
    "q3.solution()"
   ]
  },
  {
   "cell_type": "markdown",
   "id": "5aea7fd1",
   "metadata": {
    "papermill": {
     "duration": 0.028025,
     "end_time": "2021-12-01T12:15:57.927733",
     "exception": false,
     "start_time": "2021-12-01T12:15:57.899708",
     "status": "completed"
    },
    "tags": []
   },
   "source": [
    "## 4.\n",
    "Create variable `centered_price` containing a version of the `price` column with the mean price subtracted.\n",
    "\n",
    "(Note: this 'centering' transformation is a common preprocessing step before applying various machine learning algorithms.) "
   ]
  },
  {
   "cell_type": "code",
   "execution_count": 8,
   "id": "8539d0b1",
   "metadata": {
    "execution": {
     "iopub.execute_input": "2021-12-01T12:15:57.989063Z",
     "iopub.status.busy": "2021-12-01T12:15:57.988412Z",
     "iopub.status.idle": "2021-12-01T12:15:57.995010Z",
     "shell.execute_reply": "2021-12-01T12:15:57.995626Z",
     "shell.execute_reply.started": "2021-11-28T12:13:23.358824Z"
    },
    "papermill": {
     "duration": 0.04027,
     "end_time": "2021-12-01T12:15:57.995801",
     "exception": false,
     "start_time": "2021-12-01T12:15:57.955531",
     "status": "completed"
    },
    "tags": []
   },
   "outputs": [
    {
     "data": {
      "application/javascript": [
       "parent.postMessage({\"jupyterEvent\": \"custom.exercise_interaction\", \"data\": {\"outcomeType\": 1, \"valueTowardsCompletion\": 0.14285714285714285, \"interactionType\": 1, \"questionType\": 1, \"questionId\": \"4_CenteredPrice\", \"learnToolsVersion\": \"0.3.4\", \"failureMessage\": \"\", \"exceptionClass\": \"\", \"trace\": \"\"}}, \"*\")"
      ],
      "text/plain": [
       "<IPython.core.display.Javascript object>"
      ]
     },
     "metadata": {},
     "output_type": "display_data"
    },
    {
     "data": {
      "text/markdown": [
       "<span style=\"color:#33cc33\">Correct</span>"
      ],
      "text/plain": [
       "Correct"
      ]
     },
     "metadata": {},
     "output_type": "display_data"
    }
   ],
   "source": [
    "centered_price = reviews.price - reviews.price.mean()\n",
    "\n",
    "# Check your answer\n",
    "q4.check()"
   ]
  },
  {
   "cell_type": "code",
   "execution_count": 9,
   "id": "6315b609",
   "metadata": {
    "execution": {
     "iopub.execute_input": "2021-12-01T12:15:58.059350Z",
     "iopub.status.busy": "2021-12-01T12:15:58.058434Z",
     "iopub.status.idle": "2021-12-01T12:15:58.066477Z",
     "shell.execute_reply": "2021-12-01T12:15:58.067006Z",
     "shell.execute_reply.started": "2021-11-28T12:13:23.374347Z"
    },
    "papermill": {
     "duration": 0.042282,
     "end_time": "2021-12-01T12:15:58.067181",
     "exception": false,
     "start_time": "2021-12-01T12:15:58.024899",
     "status": "completed"
    },
    "tags": []
   },
   "outputs": [
    {
     "data": {
      "application/javascript": [
       "parent.postMessage({\"jupyterEvent\": \"custom.exercise_interaction\", \"data\": {\"interactionType\": 2, \"questionType\": 1, \"questionId\": \"4_CenteredPrice\", \"learnToolsVersion\": \"0.3.4\", \"valueTowardsCompletion\": 0.0, \"failureMessage\": \"\", \"exceptionClass\": \"\", \"trace\": \"\", \"outcomeType\": 4}}, \"*\")"
      ],
      "text/plain": [
       "<IPython.core.display.Javascript object>"
      ]
     },
     "metadata": {},
     "output_type": "display_data"
    },
    {
     "data": {
      "text/markdown": [
       "<span style=\"color:#3366cc\">Hint:</span> To get the mean of a column in a Pandas DataFrame, use the `mean` function."
      ],
      "text/plain": [
       "Hint: To get the mean of a column in a Pandas DataFrame, use the `mean` function."
      ]
     },
     "metadata": {},
     "output_type": "display_data"
    },
    {
     "data": {
      "application/javascript": [
       "parent.postMessage({\"jupyterEvent\": \"custom.exercise_interaction\", \"data\": {\"interactionType\": 3, \"questionType\": 1, \"questionId\": \"4_CenteredPrice\", \"learnToolsVersion\": \"0.3.4\", \"valueTowardsCompletion\": 0.0, \"failureMessage\": \"\", \"exceptionClass\": \"\", \"trace\": \"\", \"outcomeType\": 4}}, \"*\")"
      ],
      "text/plain": [
       "<IPython.core.display.Javascript object>"
      ]
     },
     "metadata": {},
     "output_type": "display_data"
    },
    {
     "data": {
      "text/markdown": [
       "<span style=\"color:#33cc99\">Solution:</span> \n",
       "```python\n",
       "centered_price = reviews.price - reviews.price.mean()\n",
       "```"
      ],
      "text/plain": [
       "Solution: \n",
       "```python\n",
       "centered_price = reviews.price - reviews.price.mean()\n",
       "```"
      ]
     },
     "metadata": {},
     "output_type": "display_data"
    }
   ],
   "source": [
    "q4.hint()\n",
    "q4.solution()"
   ]
  },
  {
   "cell_type": "markdown",
   "id": "58d0bddc",
   "metadata": {
    "papermill": {
     "duration": 0.030506,
     "end_time": "2021-12-01T12:15:58.128463",
     "exception": false,
     "start_time": "2021-12-01T12:15:58.097957",
     "status": "completed"
    },
    "tags": []
   },
   "source": [
    "## 5.\n",
    "I'm an economical wine buyer. Which wine is the \"best bargain\"? Create a variable `bargain_wine` with the title of the wine with the highest points-to-price ratio in the dataset."
   ]
  },
  {
   "cell_type": "code",
   "execution_count": 10,
   "id": "18fea6ca",
   "metadata": {
    "execution": {
     "iopub.execute_input": "2021-12-01T12:15:58.198683Z",
     "iopub.status.busy": "2021-12-01T12:15:58.198018Z",
     "iopub.status.idle": "2021-12-01T12:15:58.207434Z",
     "shell.execute_reply": "2021-12-01T12:15:58.208007Z",
     "shell.execute_reply.started": "2021-11-28T12:13:23.380988Z"
    },
    "papermill": {
     "duration": 0.046056,
     "end_time": "2021-12-01T12:15:58.208168",
     "exception": false,
     "start_time": "2021-12-01T12:15:58.162112",
     "status": "completed"
    },
    "tags": []
   },
   "outputs": [
    {
     "data": {
      "application/javascript": [
       "parent.postMessage({\"jupyterEvent\": \"custom.exercise_interaction\", \"data\": {\"outcomeType\": 1, \"valueTowardsCompletion\": 0.14285714285714285, \"interactionType\": 1, \"questionType\": 2, \"questionId\": \"5_BargainWine\", \"learnToolsVersion\": \"0.3.4\", \"failureMessage\": \"\", \"exceptionClass\": \"\", \"trace\": \"\"}}, \"*\")"
      ],
      "text/plain": [
       "<IPython.core.display.Javascript object>"
      ]
     },
     "metadata": {},
     "output_type": "display_data"
    },
    {
     "data": {
      "text/markdown": [
       "<span style=\"color:#33cc33\">Correct</span>"
      ],
      "text/plain": [
       "Correct"
      ]
     },
     "metadata": {},
     "output_type": "display_data"
    }
   ],
   "source": [
    "bargain_wine = reviews.loc[(reviews.points / reviews.price).idxmax(), \"title\"]\n",
    "\n",
    "# Check your answer\n",
    "q5.check()"
   ]
  },
  {
   "cell_type": "code",
   "execution_count": 11,
   "id": "06bea718",
   "metadata": {
    "execution": {
     "iopub.execute_input": "2021-12-01T12:15:58.277098Z",
     "iopub.status.busy": "2021-12-01T12:15:58.276190Z",
     "iopub.status.idle": "2021-12-01T12:15:58.284552Z",
     "shell.execute_reply": "2021-12-01T12:15:58.285048Z",
     "shell.execute_reply.started": "2021-11-28T12:13:23.397831Z"
    },
    "papermill": {
     "duration": 0.045327,
     "end_time": "2021-12-01T12:15:58.285214",
     "exception": false,
     "start_time": "2021-12-01T12:15:58.239887",
     "status": "completed"
    },
    "tags": []
   },
   "outputs": [
    {
     "data": {
      "application/javascript": [
       "parent.postMessage({\"jupyterEvent\": \"custom.exercise_interaction\", \"data\": {\"interactionType\": 2, \"questionType\": 2, \"questionId\": \"5_BargainWine\", \"learnToolsVersion\": \"0.3.4\", \"valueTowardsCompletion\": 0.0, \"failureMessage\": \"\", \"exceptionClass\": \"\", \"trace\": \"\", \"outcomeType\": 4}}, \"*\")"
      ],
      "text/plain": [
       "<IPython.core.display.Javascript object>"
      ]
     },
     "metadata": {},
     "output_type": "display_data"
    },
    {
     "data": {
      "text/markdown": [
       "<span style=\"color:#3366cc\">Hint:</span> The `idxmax` method may be useful here."
      ],
      "text/plain": [
       "Hint: The `idxmax` method may be useful here."
      ]
     },
     "metadata": {},
     "output_type": "display_data"
    },
    {
     "data": {
      "application/javascript": [
       "parent.postMessage({\"jupyterEvent\": \"custom.exercise_interaction\", \"data\": {\"interactionType\": 3, \"questionType\": 2, \"questionId\": \"5_BargainWine\", \"learnToolsVersion\": \"0.3.4\", \"valueTowardsCompletion\": 0.0, \"failureMessage\": \"\", \"exceptionClass\": \"\", \"trace\": \"\", \"outcomeType\": 4}}, \"*\")"
      ],
      "text/plain": [
       "<IPython.core.display.Javascript object>"
      ]
     },
     "metadata": {},
     "output_type": "display_data"
    },
    {
     "data": {
      "text/markdown": [
       "<span style=\"color:#33cc99\">Solution:</span> \n",
       "```python\n",
       "bargain_idx = (reviews.points / reviews.price).idxmax()\n",
       "bargain_wine = reviews.loc[bargain_idx, 'title']\n",
       "```"
      ],
      "text/plain": [
       "Solution: \n",
       "```python\n",
       "bargain_idx = (reviews.points / reviews.price).idxmax()\n",
       "bargain_wine = reviews.loc[bargain_idx, 'title']\n",
       "```"
      ]
     },
     "metadata": {},
     "output_type": "display_data"
    }
   ],
   "source": [
    "q5.hint()\n",
    "q5.solution()"
   ]
  },
  {
   "cell_type": "markdown",
   "id": "06890757",
   "metadata": {
    "papermill": {
     "duration": 0.033272,
     "end_time": "2021-12-01T12:15:58.352468",
     "exception": false,
     "start_time": "2021-12-01T12:15:58.319196",
     "status": "completed"
    },
    "tags": []
   },
   "source": [
    "## 6.\n",
    "There are only so many words you can use when describing a bottle of wine. Is a wine more likely to be \"tropical\" or \"fruity\"? Create a Series `descriptor_counts` counting how many times each of these two words appears in the `description` column in the dataset."
   ]
  },
  {
   "cell_type": "code",
   "execution_count": 12,
   "id": "bceee2dd",
   "metadata": {
    "execution": {
     "iopub.execute_input": "2021-12-01T12:15:58.429388Z",
     "iopub.status.busy": "2021-12-01T12:15:58.428395Z",
     "iopub.status.idle": "2021-12-01T12:15:58.581372Z",
     "shell.execute_reply": "2021-12-01T12:15:58.580847Z",
     "shell.execute_reply.started": "2021-11-28T12:13:23.406239Z"
    },
    "papermill": {
     "duration": 0.194493,
     "end_time": "2021-12-01T12:15:58.581506",
     "exception": false,
     "start_time": "2021-12-01T12:15:58.387013",
     "status": "completed"
    },
    "tags": []
   },
   "outputs": [
    {
     "data": {
      "application/javascript": [
       "parent.postMessage({\"jupyterEvent\": \"custom.exercise_interaction\", \"data\": {\"outcomeType\": 1, \"valueTowardsCompletion\": 0.14285714285714285, \"interactionType\": 1, \"questionType\": 1, \"questionId\": \"6_DescriptorCounts\", \"learnToolsVersion\": \"0.3.4\", \"failureMessage\": \"\", \"exceptionClass\": \"\", \"trace\": \"\"}}, \"*\")"
      ],
      "text/plain": [
       "<IPython.core.display.Javascript object>"
      ]
     },
     "metadata": {},
     "output_type": "display_data"
    },
    {
     "data": {
      "text/markdown": [
       "<span style=\"color:#33cc33\">Correct</span>"
      ],
      "text/plain": [
       "Correct"
      ]
     },
     "metadata": {},
     "output_type": "display_data"
    }
   ],
   "source": [
    "tropical_count = reviews.description.map(lambda x: \"tropical\" in x).sum()\n",
    "fruity_count = reviews.description.map(lambda x: \"fruity\" in x).sum()\n",
    "\n",
    "# true = 1 and false = 0 so sum() will return sum of all true values\n",
    "descriptor_counts = pd.Series([tropical_count, fruity_count], index=[\"tropical\", \"fruity\"])\n",
    "\n",
    "# Check your answer\n",
    "q6.check()"
   ]
  },
  {
   "cell_type": "code",
   "execution_count": 13,
   "id": "a77d1242",
   "metadata": {
    "execution": {
     "iopub.execute_input": "2021-12-01T12:15:58.654528Z",
     "iopub.status.busy": "2021-12-01T12:15:58.653881Z",
     "iopub.status.idle": "2021-12-01T12:15:58.662158Z",
     "shell.execute_reply": "2021-12-01T12:15:58.662660Z",
     "shell.execute_reply.started": "2021-11-28T12:13:23.540474Z"
    },
    "papermill": {
     "duration": 0.046241,
     "end_time": "2021-12-01T12:15:58.662822",
     "exception": false,
     "start_time": "2021-12-01T12:15:58.616581",
     "status": "completed"
    },
    "tags": []
   },
   "outputs": [
    {
     "data": {
      "application/javascript": [
       "parent.postMessage({\"jupyterEvent\": \"custom.exercise_interaction\", \"data\": {\"interactionType\": 2, \"questionType\": 1, \"questionId\": \"6_DescriptorCounts\", \"learnToolsVersion\": \"0.3.4\", \"valueTowardsCompletion\": 0.0, \"failureMessage\": \"\", \"exceptionClass\": \"\", \"trace\": \"\", \"outcomeType\": 4}}, \"*\")"
      ],
      "text/plain": [
       "<IPython.core.display.Javascript object>"
      ]
     },
     "metadata": {},
     "output_type": "display_data"
    },
    {
     "data": {
      "text/markdown": [
       "<span style=\"color:#3366cc\">Hint:</span> Use a map to check each description for the string `tropical`, then count up the number of times this is `True`. Repeat this for `fruity`. Finally, create a `Series` combining the two values."
      ],
      "text/plain": [
       "Hint: Use a map to check each description for the string `tropical`, then count up the number of times this is `True`. Repeat this for `fruity`. Finally, create a `Series` combining the two values."
      ]
     },
     "metadata": {},
     "output_type": "display_data"
    },
    {
     "data": {
      "application/javascript": [
       "parent.postMessage({\"jupyterEvent\": \"custom.exercise_interaction\", \"data\": {\"interactionType\": 3, \"questionType\": 1, \"questionId\": \"6_DescriptorCounts\", \"learnToolsVersion\": \"0.3.4\", \"valueTowardsCompletion\": 0.0, \"failureMessage\": \"\", \"exceptionClass\": \"\", \"trace\": \"\", \"outcomeType\": 4}}, \"*\")"
      ],
      "text/plain": [
       "<IPython.core.display.Javascript object>"
      ]
     },
     "metadata": {},
     "output_type": "display_data"
    },
    {
     "data": {
      "text/markdown": [
       "<span style=\"color:#33cc99\">Solution:</span> \n",
       "```python\n",
       "n_trop = reviews.description.map(lambda desc: \"tropical\" in desc).sum()\n",
       "n_fruity = reviews.description.map(lambda desc: \"fruity\" in desc).sum()\n",
       "descriptor_counts = pd.Series([n_trop, n_fruity], index=['tropical', 'fruity'])\n",
       "```"
      ],
      "text/plain": [
       "Solution: \n",
       "```python\n",
       "n_trop = reviews.description.map(lambda desc: \"tropical\" in desc).sum()\n",
       "n_fruity = reviews.description.map(lambda desc: \"fruity\" in desc).sum()\n",
       "descriptor_counts = pd.Series([n_trop, n_fruity], index=['tropical', 'fruity'])\n",
       "```"
      ]
     },
     "metadata": {},
     "output_type": "display_data"
    }
   ],
   "source": [
    "q6.hint()\n",
    "#\n",
    "q6.solution()"
   ]
  },
  {
   "cell_type": "markdown",
   "id": "0f8d8674",
   "metadata": {
    "papermill": {
     "duration": 0.036279,
     "end_time": "2021-12-01T12:15:58.736145",
     "exception": false,
     "start_time": "2021-12-01T12:15:58.699866",
     "status": "completed"
    },
    "tags": []
   },
   "source": [
    "## 7.\n",
    "We'd like to host these wine reviews on our website, but a rating system ranging from 80 to 100 points is too hard to understand - we'd like to translate them into simple star ratings. A score of 95 or higher counts as 3 stars, a score of at least 85 but less than 95 is 2 stars. Any other score is 1 star.\n",
    "\n",
    "Also, the Canadian Vintners Association bought a lot of ads on the site, so any wines from Canada should automatically get 3 stars, regardless of points.\n",
    "\n",
    "Create a series `star_ratings` with the number of stars corresponding to each review in the dataset."
   ]
  },
  {
   "cell_type": "code",
   "execution_count": 14,
   "id": "e87bde7a",
   "metadata": {
    "execution": {
     "iopub.execute_input": "2021-12-01T12:15:58.812207Z",
     "iopub.status.busy": "2021-12-01T12:15:58.811584Z",
     "iopub.status.idle": "2021-12-01T12:16:03.679968Z",
     "shell.execute_reply": "2021-12-01T12:16:03.680485Z",
     "shell.execute_reply.started": "2021-11-28T12:13:23.552966Z"
    },
    "papermill": {
     "duration": 4.907849,
     "end_time": "2021-12-01T12:16:03.680661",
     "exception": false,
     "start_time": "2021-12-01T12:15:58.772812",
     "status": "completed"
    },
    "tags": []
   },
   "outputs": [
    {
     "data": {
      "application/javascript": [
       "parent.postMessage({\"jupyterEvent\": \"custom.exercise_interaction\", \"data\": {\"outcomeType\": 1, \"valueTowardsCompletion\": 0.14285714285714285, \"interactionType\": 1, \"questionType\": 1, \"questionId\": \"7_StarRatings\", \"learnToolsVersion\": \"0.3.4\", \"failureMessage\": \"\", \"exceptionClass\": \"\", \"trace\": \"\"}}, \"*\")"
      ],
      "text/plain": [
       "<IPython.core.display.Javascript object>"
      ]
     },
     "metadata": {},
     "output_type": "display_data"
    },
    {
     "data": {
      "text/markdown": [
       "<span style=\"color:#33cc33\">Correct</span>"
      ],
      "text/plain": [
       "Correct"
      ]
     },
     "metadata": {},
     "output_type": "display_data"
    },
    {
     "data": {
      "text/plain": [
       "0         2\n",
       "1         2\n",
       "         ..\n",
       "129969    2\n",
       "129970    2\n",
       "Length: 129971, dtype: int64"
      ]
     },
     "execution_count": 14,
     "metadata": {},
     "output_type": "execute_result"
    }
   ],
   "source": [
    "def stars(row):\n",
    "    if row.country == \"Canada\":\n",
    "        return 3\n",
    "    elif row.points >= 95:\n",
    "        return 3\n",
    "    elif row.points >= 85:\n",
    "        return 2\n",
    "    else:\n",
    "        return 1\n",
    "\n",
    "star_ratings = reviews.apply(stars, axis='columns')\n",
    "# Check your answer\n",
    "q7.check()\n",
    "\n",
    "star_ratings"
   ]
  },
  {
   "cell_type": "code",
   "execution_count": 15,
   "id": "040c6baa",
   "metadata": {
    "execution": {
     "iopub.execute_input": "2021-12-01T12:16:03.761360Z",
     "iopub.status.busy": "2021-12-01T12:16:03.760414Z",
     "iopub.status.idle": "2021-12-01T12:16:03.770812Z",
     "shell.execute_reply": "2021-12-01T12:16:03.771299Z",
     "shell.execute_reply.started": "2021-11-28T12:13:26.798206Z"
    },
    "papermill": {
     "duration": 0.052453,
     "end_time": "2021-12-01T12:16:03.771456",
     "exception": false,
     "start_time": "2021-12-01T12:16:03.719003",
     "status": "completed"
    },
    "tags": []
   },
   "outputs": [
    {
     "data": {
      "application/javascript": [
       "parent.postMessage({\"jupyterEvent\": \"custom.exercise_interaction\", \"data\": {\"interactionType\": 2, \"questionType\": 1, \"questionId\": \"7_StarRatings\", \"learnToolsVersion\": \"0.3.4\", \"valueTowardsCompletion\": 0.0, \"failureMessage\": \"\", \"exceptionClass\": \"\", \"trace\": \"\", \"outcomeType\": 4}}, \"*\")"
      ],
      "text/plain": [
       "<IPython.core.display.Javascript object>"
      ]
     },
     "metadata": {},
     "output_type": "display_data"
    },
    {
     "data": {
      "text/markdown": [
       "<span style=\"color:#3366cc\">Hint:</span> Begin by writing a custom function that accepts a row from the DataFrame as input and returns the star rating corresponding to the row.  Then, use `DataFrame.apply` to apply the custom function to every row in the dataset."
      ],
      "text/plain": [
       "Hint: Begin by writing a custom function that accepts a row from the DataFrame as input and returns the star rating corresponding to the row.  Then, use `DataFrame.apply` to apply the custom function to every row in the dataset."
      ]
     },
     "metadata": {},
     "output_type": "display_data"
    },
    {
     "data": {
      "application/javascript": [
       "parent.postMessage({\"jupyterEvent\": \"custom.exercise_interaction\", \"data\": {\"interactionType\": 3, \"questionType\": 1, \"questionId\": \"7_StarRatings\", \"learnToolsVersion\": \"0.3.4\", \"valueTowardsCompletion\": 0.0, \"failureMessage\": \"\", \"exceptionClass\": \"\", \"trace\": \"\", \"outcomeType\": 4}}, \"*\")"
      ],
      "text/plain": [
       "<IPython.core.display.Javascript object>"
      ]
     },
     "metadata": {},
     "output_type": "display_data"
    },
    {
     "data": {
      "text/markdown": [
       "<span style=\"color:#33cc99\">Solution:</span> \n",
       "```python\n",
       "def stars(row):\n",
       "    if row.country == 'Canada':\n",
       "        return 3\n",
       "    elif row.points >= 95:\n",
       "        return 3\n",
       "    elif row.points >= 85:\n",
       "        return 2\n",
       "    else:\n",
       "        return 1\n",
       "    \n",
       "star_ratings = reviews.apply(stars, axis='columns')\n",
       "```"
      ],
      "text/plain": [
       "Solution: \n",
       "```python\n",
       "def stars(row):\n",
       "    if row.country == 'Canada':\n",
       "        return 3\n",
       "    elif row.points >= 95:\n",
       "        return 3\n",
       "    elif row.points >= 85:\n",
       "        return 2\n",
       "    else:\n",
       "        return 1\n",
       "    \n",
       "star_ratings = reviews.apply(stars, axis='columns')\n",
       "```"
      ]
     },
     "metadata": {},
     "output_type": "display_data"
    }
   ],
   "source": [
    "q7.hint()\n",
    "q7.solution()"
   ]
  },
  {
   "cell_type": "markdown",
   "id": "979c701a",
   "metadata": {
    "papermill": {
     "duration": 0.038939,
     "end_time": "2021-12-01T12:16:03.850655",
     "exception": false,
     "start_time": "2021-12-01T12:16:03.811716",
     "status": "completed"
    },
    "tags": []
   },
   "source": [
    "# Keep going\n",
    "Continue to **[grouping and sorting](https://www.kaggle.com/residentmario/grouping-and-sorting)**."
   ]
  },
  {
   "cell_type": "markdown",
   "id": "e02507fc",
   "metadata": {
    "papermill": {
     "duration": 0.03989,
     "end_time": "2021-12-01T12:16:03.930199",
     "exception": false,
     "start_time": "2021-12-01T12:16:03.890309",
     "status": "completed"
    },
    "tags": []
   },
   "source": [
    "---\n",
    "**[Pandas Home Page](https://www.kaggle.com/learn/pandas)**\n",
    "\n",
    "\n",
    "\n",
    "\n",
    "\n",
    "*Have questions or comments? Visit the [Learn Discussion forum](https://www.kaggle.com/learn-forum/161299) to chat with other Learners.*"
   ]
  }
 ],
 "metadata": {
  "kernelspec": {
   "display_name": "Python 3",
   "language": "python",
   "name": "python3"
  },
  "language_info": {
   "codemirror_mode": {
    "name": "ipython",
    "version": 3
   },
   "file_extension": ".py",
   "mimetype": "text/x-python",
   "name": "python",
   "nbconvert_exporter": "python",
   "pygments_lexer": "ipython3",
   "version": "3.7.10"
  },
  "papermill": {
   "default_parameters": {},
   "duration": 23.900436,
   "end_time": "2021-12-01T12:16:04.579924",
   "environment_variables": {},
   "exception": null,
   "input_path": "__notebook__.ipynb",
   "output_path": "__notebook__.ipynb",
   "parameters": {},
   "start_time": "2021-12-01T12:15:40.679488",
   "version": "2.3.3"
  }
 },
 "nbformat": 4,
 "nbformat_minor": 5
}
