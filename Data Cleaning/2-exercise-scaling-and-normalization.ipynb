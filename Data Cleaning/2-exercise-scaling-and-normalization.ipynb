{
 "cells": [
  {
   "cell_type": "markdown",
   "id": "39ed5695",
   "metadata": {
    "papermill": {
     "duration": 0.012414,
     "end_time": "2021-11-30T09:16:55.607766",
     "exception": false,
     "start_time": "2021-11-30T09:16:55.595352",
     "status": "completed"
    },
    "tags": []
   },
   "source": [
    "**This notebook is an exercise in the [Data Cleaning](https://www.kaggle.com/learn/data-cleaning) course.  You can reference the tutorial at [this link](https://www.kaggle.com/alexisbcook/scaling-and-normalization).**\n",
    "\n",
    "---\n"
   ]
  },
  {
   "cell_type": "markdown",
   "id": "2660afea",
   "metadata": {
    "papermill": {
     "duration": 0.01088,
     "end_time": "2021-11-30T09:16:55.630598",
     "exception": false,
     "start_time": "2021-11-30T09:16:55.619718",
     "status": "completed"
    },
    "tags": []
   },
   "source": [
    "In this exercise, you'll apply what you learned in the **Scaling and normalization** tutorial.\n",
    "\n",
    "# Setup\n",
    "\n",
    "The questions below will give you feedback on your work. Run the following cell to set up the feedback system."
   ]
  },
  {
   "cell_type": "code",
   "execution_count": 1,
   "id": "4926387b",
   "metadata": {
    "execution": {
     "iopub.execute_input": "2021-11-30T09:16:55.661707Z",
     "iopub.status.busy": "2021-11-30T09:16:55.660039Z",
     "iopub.status.idle": "2021-11-30T09:16:59.114438Z",
     "shell.execute_reply": "2021-11-30T09:16:59.114976Z"
    },
    "papermill": {
     "duration": 3.470806,
     "end_time": "2021-11-30T09:16:59.115276",
     "exception": false,
     "start_time": "2021-11-30T09:16:55.644470",
     "status": "completed"
    },
    "tags": []
   },
   "outputs": [
    {
     "name": "stdout",
     "output_type": "stream",
     "text": [
      "Setup Complete\n"
     ]
    }
   ],
   "source": [
    "from learntools.core import binder\n",
    "binder.bind(globals())\n",
    "from learntools.data_cleaning.ex2 import *\n",
    "print(\"Setup Complete\")"
   ]
  },
  {
   "cell_type": "markdown",
   "id": "dfe29277",
   "metadata": {
    "papermill": {
     "duration": 0.011633,
     "end_time": "2021-11-30T09:16:59.139669",
     "exception": false,
     "start_time": "2021-11-30T09:16:59.128036",
     "status": "completed"
    },
    "tags": []
   },
   "source": [
    "# Get our environment set up\n",
    "\n",
    "To practice scaling and normalization, we're going to use a [dataset of Kickstarter campaigns](https://www.kaggle.com/kemical/kickstarter-projects). (Kickstarter is a website where people can ask people to invest in various projects and concept products.)\n",
    "\n",
    "The next code cell loads in the libraries and dataset we'll be using. "
   ]
  },
  {
   "cell_type": "code",
   "execution_count": 2,
   "id": "0eaaef3c",
   "metadata": {
    "execution": {
     "iopub.execute_input": "2021-11-30T09:16:59.168646Z",
     "iopub.status.busy": "2021-11-30T09:16:59.168032Z",
     "iopub.status.idle": "2021-11-30T09:17:00.511409Z",
     "shell.execute_reply": "2021-11-30T09:17:00.510855Z"
    },
    "papermill": {
     "duration": 1.360032,
     "end_time": "2021-11-30T09:17:00.511553",
     "exception": false,
     "start_time": "2021-11-30T09:16:59.151521",
     "status": "completed"
    },
    "tags": []
   },
   "outputs": [],
   "source": [
    "# modules we'll use\n",
    "import pandas as pd\n",
    "import numpy as np\n",
    "\n",
    "# for Box-Cox Transformation\n",
    "from scipy import stats\n",
    "\n",
    "# for min_max scaling\n",
    "from mlxtend.preprocessing import minmax_scaling\n",
    "\n",
    "# plotting modules\n",
    "import seaborn as sns\n",
    "import matplotlib.pyplot as plt\n",
    "\n",
    "# read in all our data\n",
    "kickstarters_2017 = pd.read_csv(\"../input/kickstarter-projects/ks-projects-201801.csv\")\n",
    "\n",
    "# set seed for reproducibility\n",
    "np.random.seed(0)"
   ]
  },
  {
   "cell_type": "markdown",
   "id": "a9a10556",
   "metadata": {
    "papermill": {
     "duration": 0.011843,
     "end_time": "2021-11-30T09:17:00.535383",
     "exception": false,
     "start_time": "2021-11-30T09:17:00.523540",
     "status": "completed"
    },
    "tags": []
   },
   "source": [
    "Let's start by scaling the goals of each campaign, which is how much money they were asking for.  The plots show a histogram of the values in the \"usd_goal_real\" column, both before and after scaling.  "
   ]
  },
  {
   "cell_type": "code",
   "execution_count": 3,
   "id": "79b547e6",
   "metadata": {
    "execution": {
     "iopub.execute_input": "2021-11-30T09:17:00.566287Z",
     "iopub.status.busy": "2021-11-30T09:17:00.565591Z",
     "iopub.status.idle": "2021-11-30T09:17:04.246406Z",
     "shell.execute_reply": "2021-11-30T09:17:04.246935Z"
    },
    "papermill": {
     "duration": 3.699651,
     "end_time": "2021-11-30T09:17:04.247120",
     "exception": false,
     "start_time": "2021-11-30T09:17:00.547469",
     "status": "completed"
    },
    "tags": []
   },
   "outputs": [
    {
     "name": "stderr",
     "output_type": "stream",
     "text": [
      "/opt/conda/lib/python3.7/site-packages/seaborn/distributions.py:2619: FutureWarning: `distplot` is a deprecated function and will be removed in a future version. Please adapt your code to use either `displot` (a figure-level function with similar flexibility) or `histplot` (an axes-level function for histograms).\n",
      "  warnings.warn(msg, FutureWarning)\n",
      "/opt/conda/lib/python3.7/site-packages/seaborn/distributions.py:2619: FutureWarning: `distplot` is a deprecated function and will be removed in a future version. Please adapt your code to use either `displot` (a figure-level function with similar flexibility) or `histplot` (an axes-level function for histograms).\n",
      "  warnings.warn(msg, FutureWarning)\n"
     ]
    },
    {
     "data": {
      "text/plain": [
       "Text(0.5, 1.0, 'Scaled data')"
      ]
     },
     "execution_count": 3,
     "metadata": {},
     "output_type": "execute_result"
    },
    {
     "data": {
      "image/png": "[encoded data removed]",
      "text/plain": [
       "<Figure size 1080x216 with 2 Axes>"
      ]
     },
     "metadata": {
      "needs_background": "light"
     },
     "output_type": "display_data"
    }
   ],
   "source": [
    "# select the usd_goal_real column\n",
    "original_data = pd.DataFrame(kickstarters_2017.usd_goal_real)\n",
    "\n",
    "# scale the goals from 0 to 1\n",
    "scaled_data = minmax_scaling(original_data, columns=['usd_goal_real'])\n",
    "\n",
    "# plot the original & scaled data together to compare\n",
    "fig, ax=plt.subplots(1,2,figsize=(15,3))\n",
    "sns.distplot(kickstarters_2017.usd_goal_real, ax=ax[0])\n",
    "ax[0].set_title(\"Original Data\")\n",
    "sns.distplot(scaled_data, ax=ax[1])\n",
    "ax[1].set_title(\"Scaled data\")"
   ]
  },
  {
   "cell_type": "markdown",
   "id": "3b9e9cce",
   "metadata": {
    "papermill": {
     "duration": 0.012932,
     "end_time": "2021-11-30T09:17:04.273480",
     "exception": false,
     "start_time": "2021-11-30T09:17:04.260548",
     "status": "completed"
    },
    "tags": []
   },
   "source": [
    "After scaling, all values lie between 0 and 1 (you can read this in the horizontal axis of the second plot above, and we verify in the code cell below)."
   ]
  },
  {
   "cell_type": "code",
   "execution_count": 4,
   "id": "947506c6",
   "metadata": {
    "execution": {
     "iopub.execute_input": "2021-11-30T09:17:04.303587Z",
     "iopub.status.busy": "2021-11-30T09:17:04.302660Z",
     "iopub.status.idle": "2021-11-30T09:17:04.319809Z",
     "shell.execute_reply": "2021-11-30T09:17:04.320491Z"
    },
    "papermill": {
     "duration": 0.03403,
     "end_time": "2021-11-30T09:17:04.320715",
     "exception": false,
     "start_time": "2021-11-30T09:17:04.286685",
     "status": "completed"
    },
    "tags": []
   },
   "outputs": [
    {
     "name": "stdout",
     "output_type": "stream",
     "text": [
      "Original data\n",
      "Preview:\n",
      "    usd_goal_real\n",
      "0        1533.95\n",
      "1       30000.00\n",
      "2       45000.00\n",
      "3        5000.00\n",
      "4       19500.00\n",
      "Minimum value: 0.01 \n",
      "Maximum value: 166361390.71\n",
      "______________________________\n",
      "\n",
      "Scaled data\n",
      "Preview:\n",
      "    usd_goal_real\n",
      "0       0.000009\n",
      "1       0.000180\n",
      "2       0.000270\n",
      "3       0.000030\n",
      "4       0.000117\n",
      "Minimum value: 0.0 \n",
      "Maximum value: 1.0\n"
     ]
    }
   ],
   "source": [
    "print('Original data\\nPreview:\\n', original_data.head())\n",
    "print('Minimum value:', float(original_data.min()),\n",
    "      '\\nMaximum value:', float(original_data.max()))\n",
    "print('_'*30)\n",
    "\n",
    "print('\\nScaled data\\nPreview:\\n', scaled_data.head())\n",
    "print('Minimum value:', float(scaled_data.min()),\n",
    "      '\\nMaximum value:', float(scaled_data.max()))"
   ]
  },
  {
   "cell_type": "markdown",
   "id": "5afd20f8",
   "metadata": {
    "papermill": {
     "duration": 0.013651,
     "end_time": "2021-11-30T09:17:04.349034",
     "exception": false,
     "start_time": "2021-11-30T09:17:04.335383",
     "status": "completed"
    },
    "tags": []
   },
   "source": [
    "# 1) Practice scaling\n",
    "\n",
    "We just scaled the \"usd_goal_real\" column. What about the \"goal\" column?\n",
    "\n",
    "Begin by running the code cell below to create a DataFrame `original_goal_data` containing the \"goal\" column."
   ]
  },
  {
   "cell_type": "code",
   "execution_count": 5,
   "id": "64ff1907",
   "metadata": {
    "execution": {
     "iopub.execute_input": "2021-11-30T09:17:04.380220Z",
     "iopub.status.busy": "2021-11-30T09:17:04.379333Z",
     "iopub.status.idle": "2021-11-30T09:17:04.384480Z",
     "shell.execute_reply": "2021-11-30T09:17:04.384925Z"
    },
    "papermill": {
     "duration": 0.022223,
     "end_time": "2021-11-30T09:17:04.385106",
     "exception": false,
     "start_time": "2021-11-30T09:17:04.362883",
     "status": "completed"
    },
    "tags": []
   },
   "outputs": [],
   "source": [
    "# select the usd_goal_real column\n",
    "original_goal_data = pd.DataFrame(kickstarters_2017.goal)"
   ]
  },
  {
   "cell_type": "markdown",
   "id": "35f91326",
   "metadata": {
    "papermill": {
     "duration": 0.01363,
     "end_time": "2021-11-30T09:17:04.412765",
     "exception": false,
     "start_time": "2021-11-30T09:17:04.399135",
     "status": "completed"
    },
    "tags": []
   },
   "source": [
    "Use `original_goal_data` to create a new DataFrame `scaled_goal_data` with values scaled between 0 and 1. You must use the `minimax_scaling()` function."
   ]
  },
  {
   "cell_type": "code",
   "execution_count": 6,
   "id": "b85c4f03",
   "metadata": {
    "execution": {
     "iopub.execute_input": "2021-11-30T09:17:04.444406Z",
     "iopub.status.busy": "2021-11-30T09:17:04.443249Z",
     "iopub.status.idle": "2021-11-30T09:17:04.475206Z",
     "shell.execute_reply": "2021-11-30T09:17:04.475634Z"
    },
    "papermill": {
     "duration": 0.049248,
     "end_time": "2021-11-30T09:17:04.475829",
     "exception": false,
     "start_time": "2021-11-30T09:17:04.426581",
     "status": "completed"
    },
    "tags": []
   },
   "outputs": [
    {
     "data": {
      "application/javascript": [
       "parent.postMessage({\"jupyterEvent\": \"custom.exercise_interaction\", \"data\": {\"outcomeType\": 1, \"valueTowardsCompletion\": 0.3333333333333333, \"interactionType\": 1, \"questionType\": 1, \"questionId\": \"1_TryScaling\", \"learnToolsVersion\": \"0.3.4\", \"failureMessage\": \"\", \"exceptionClass\": \"\", \"trace\": \"\"}}, \"*\")"
      ],
      "text/plain": [
       "<IPython.core.display.Javascript object>"
      ]
     },
     "metadata": {},
     "output_type": "display_data"
    },
    {
     "data": {
      "text/markdown": [
       "<span style=\"color:#33cc33\">Correct</span>"
      ],
      "text/plain": [
       "Correct"
      ]
     },
     "metadata": {},
     "output_type": "display_data"
    },
    {
     "data": {
      "text/html": [
       "<div>\n",
       "<style scoped>\n",
       "    .dataframe tbody tr th:only-of-type {\n",
       "        vertical-align: middle;\n",
       "    }\n",
       "\n",
       "    .dataframe tbody tr th {\n",
       "        vertical-align: top;\n",
       "    }\n",
       "\n",
       "    .dataframe thead th {\n",
       "        text-align: right;\n",
       "    }\n",
       "</style>\n",
       "<table border=\"1\" class=\"dataframe\">\n",
       "  <thead>\n",
       "    <tr style=\"text-align: right;\">\n",
       "      <th></th>\n",
       "      <th>goal</th>\n",
       "    </tr>\n",
       "  </thead>\n",
       "  <tbody>\n",
       "    <tr>\n",
       "      <th>0</th>\n",
       "      <td>0.000010</td>\n",
       "    </tr>\n",
       "    <tr>\n",
       "      <th>1</th>\n",
       "      <td>0.000300</td>\n",
       "    </tr>\n",
       "    <tr>\n",
       "      <th>2</th>\n",
       "      <td>0.000450</td>\n",
       "    </tr>\n",
       "    <tr>\n",
       "      <th>3</th>\n",
       "      <td>0.000050</td>\n",
       "    </tr>\n",
       "    <tr>\n",
       "      <th>4</th>\n",
       "      <td>0.000195</td>\n",
       "    </tr>\n",
       "    <tr>\n",
       "      <th>...</th>\n",
       "      <td>...</td>\n",
       "    </tr>\n",
       "    <tr>\n",
       "      <th>378656</th>\n",
       "      <td>0.000500</td>\n",
       "    </tr>\n",
       "    <tr>\n",
       "      <th>378657</th>\n",
       "      <td>0.000015</td>\n",
       "    </tr>\n",
       "    <tr>\n",
       "      <th>378658</th>\n",
       "      <td>0.000150</td>\n",
       "    </tr>\n",
       "    <tr>\n",
       "      <th>378659</th>\n",
       "      <td>0.000150</td>\n",
       "    </tr>\n",
       "    <tr>\n",
       "      <th>378660</th>\n",
       "      <td>0.000020</td>\n",
       "    </tr>\n",
       "  </tbody>\n",
       "</table>\n",
       "<p>378661 rows × 1 columns</p>\n",
       "</div>"
      ],
      "text/plain": [
       "            goal\n",
       "0       0.000010\n",
       "1       0.000300\n",
       "2       0.000450\n",
       "3       0.000050\n",
       "4       0.000195\n",
       "...          ...\n",
       "378656  0.000500\n",
       "378657  0.000015\n",
       "378658  0.000150\n",
       "378659  0.000150\n",
       "378660  0.000020\n",
       "\n",
       "[378661 rows x 1 columns]"
      ]
     },
     "execution_count": 6,
     "metadata": {},
     "output_type": "execute_result"
    }
   ],
   "source": [
    "# TODO: Your code here\n",
    "scaled_goal_data = minmax_scaling(original_goal_data, columns=[\"goal\"])\n",
    "\n",
    "# Check your answer\n",
    "q1.check()\n",
    "\n",
    "scaled_goal_data"
   ]
  },
  {
   "cell_type": "code",
   "execution_count": 7,
   "id": "e99ccf9c",
   "metadata": {
    "execution": {
     "iopub.execute_input": "2021-11-30T09:17:04.509556Z",
     "iopub.status.busy": "2021-11-30T09:17:04.508627Z",
     "iopub.status.idle": "2021-11-30T09:17:04.518249Z",
     "shell.execute_reply": "2021-11-30T09:17:04.518652Z"
    },
    "papermill": {
     "duration": 0.028038,
     "end_time": "2021-11-30T09:17:04.518865",
     "exception": false,
     "start_time": "2021-11-30T09:17:04.490827",
     "status": "completed"
    },
    "tags": []
   },
   "outputs": [
    {
     "data": {
      "application/javascript": [
       "parent.postMessage({\"jupyterEvent\": \"custom.exercise_interaction\", \"data\": {\"interactionType\": 2, \"questionType\": 1, \"questionId\": \"1_TryScaling\", \"learnToolsVersion\": \"0.3.4\", \"valueTowardsCompletion\": 0.0, \"failureMessage\": \"\", \"exceptionClass\": \"\", \"trace\": \"\", \"outcomeType\": 4}}, \"*\")"
      ],
      "text/plain": [
       "<IPython.core.display.Javascript object>"
      ]
     },
     "metadata": {},
     "output_type": "display_data"
    },
    {
     "data": {
      "text/markdown": [
       "<span style=\"color:#3366cc\">Hint:</span> Use the `minimax_scaling()` function."
      ],
      "text/plain": [
       "Hint: Use the `minimax_scaling()` function."
      ]
     },
     "metadata": {},
     "output_type": "display_data"
    },
    {
     "data": {
      "application/javascript": [
       "parent.postMessage({\"jupyterEvent\": \"custom.exercise_interaction\", \"data\": {\"interactionType\": 3, \"questionType\": 1, \"questionId\": \"1_TryScaling\", \"learnToolsVersion\": \"0.3.4\", \"valueTowardsCompletion\": 0.0, \"failureMessage\": \"\", \"exceptionClass\": \"\", \"trace\": \"\", \"outcomeType\": 4}}, \"*\")"
      ],
      "text/plain": [
       "<IPython.core.display.Javascript object>"
      ]
     },
     "metadata": {},
     "output_type": "display_data"
    },
    {
     "data": {
      "text/markdown": [
       "<span style=\"color:#33cc99\">Solution:</span> \n",
       "```python\n",
       "scaled_goal_data = minmax_scaling(original_goal_data, columns=['goal'])\n",
       "\n",
       "```"
      ],
      "text/plain": [
       "Solution: \n",
       "```python\n",
       "scaled_goal_data = minmax_scaling(original_goal_data, columns=['goal'])\n",
       "\n",
       "```"
      ]
     },
     "metadata": {},
     "output_type": "display_data"
    }
   ],
   "source": [
    "# Lines below will give you a hint or solution code\n",
    "q1.hint()\n",
    "q1.solution()"
   ]
  },
  {
   "cell_type": "markdown",
   "id": "ac071da0",
   "metadata": {
    "papermill": {
     "duration": 0.016513,
     "end_time": "2021-11-30T09:17:04.551904",
     "exception": false,
     "start_time": "2021-11-30T09:17:04.535391",
     "status": "completed"
    },
    "tags": []
   },
   "source": [
    "# 2) Practice normalization\n",
    "\n",
    "Now you'll practice normalization. We begin by normalizing the amount of money pledged to each campaign."
   ]
  },
  {
   "cell_type": "code",
   "execution_count": 8,
   "id": "5d4e178a",
   "metadata": {
    "execution": {
     "iopub.execute_input": "2021-11-30T09:17:04.588573Z",
     "iopub.status.busy": "2021-11-30T09:17:04.587653Z",
     "iopub.status.idle": "2021-11-30T09:17:08.587181Z",
     "shell.execute_reply": "2021-11-30T09:17:08.586634Z"
    },
    "papermill": {
     "duration": 4.018961,
     "end_time": "2021-11-30T09:17:08.587317",
     "exception": false,
     "start_time": "2021-11-30T09:17:04.568356",
     "status": "completed"
    },
    "tags": []
   },
   "outputs": [
    {
     "name": "stderr",
     "output_type": "stream",
     "text": [
      "/opt/conda/lib/python3.7/site-packages/seaborn/distributions.py:2619: FutureWarning: `distplot` is a deprecated function and will be removed in a future version. Please adapt your code to use either `displot` (a figure-level function with similar flexibility) or `histplot` (an axes-level function for histograms).\n",
      "  warnings.warn(msg, FutureWarning)\n",
      "/opt/conda/lib/python3.7/site-packages/seaborn/distributions.py:2619: FutureWarning: `distplot` is a deprecated function and will be removed in a future version. Please adapt your code to use either `displot` (a figure-level function with similar flexibility) or `histplot` (an axes-level function for histograms).\n",
      "  warnings.warn(msg, FutureWarning)\n"
     ]
    },
    {
     "data": {
      "text/plain": [
       "Text(0.5, 1.0, 'Normalized data')"
      ]
     },
     "execution_count": 8,
     "metadata": {},
     "output_type": "execute_result"
    },
    {
     "data": {
      "image/png": "[encoded data removed]",
      "text/plain": [
       "<Figure size 1080x216 with 2 Axes>"
      ]
     },
     "metadata": {
      "needs_background": "light"
     },
     "output_type": "display_data"
    }
   ],
   "source": [
    "# get the index of all positive pledges (Box-Cox only takes positive values)\n",
    "index_of_positive_pledges = kickstarters_2017.usd_pledged_real > 0\n",
    "\n",
    "# get only positive pledges (using their indexes)\n",
    "positive_pledges = kickstarters_2017.usd_pledged_real.loc[index_of_positive_pledges]\n",
    "\n",
    "# normalize the pledges (w/ Box-Cox)\n",
    "normalized_pledges = pd.Series(stats.boxcox(positive_pledges)[0], \n",
    "                               name='usd_pledged_real', index=positive_pledges.index)\n",
    "\n",
    "# plot both together to compare\n",
    "fig, ax=plt.subplots(1,2,figsize=(15,3))\n",
    "sns.distplot(positive_pledges, ax=ax[0])\n",
    "ax[0].set_title(\"Original Data\")\n",
    "sns.distplot(normalized_pledges, ax=ax[1])\n",
    "ax[1].set_title(\"Normalized data\")"
   ]
  },
  {
   "cell_type": "markdown",
   "id": "a0304e16",
   "metadata": {
    "papermill": {
     "duration": 0.017972,
     "end_time": "2021-11-30T09:17:08.623596",
     "exception": false,
     "start_time": "2021-11-30T09:17:08.605624",
     "status": "completed"
    },
    "tags": []
   },
   "source": [
    "It's not perfect (it looks like a lot pledges got very few pledges) but it is much closer to a normal distribution!"
   ]
  },
  {
   "cell_type": "code",
   "execution_count": 9,
   "id": "5e0ad682",
   "metadata": {
    "execution": {
     "iopub.execute_input": "2021-11-30T09:17:08.667418Z",
     "iopub.status.busy": "2021-11-30T09:17:08.666682Z",
     "iopub.status.idle": "2021-11-30T09:17:08.673291Z",
     "shell.execute_reply": "2021-11-30T09:17:08.673762Z"
    },
    "papermill": {
     "duration": 0.032061,
     "end_time": "2021-11-30T09:17:08.673949",
     "exception": false,
     "start_time": "2021-11-30T09:17:08.641888",
     "status": "completed"
    },
    "tags": []
   },
   "outputs": [
    {
     "name": "stdout",
     "output_type": "stream",
     "text": [
      "Original data\n",
      "Preview:\n",
      " 1     2421.0\n",
      "2      220.0\n",
      "3        1.0\n",
      "4     1283.0\n",
      "5    52375.0\n",
      "Name: usd_pledged_real, dtype: float64\n",
      "Minimum value: 0.45 \n",
      "Maximum value: 20338986.27\n",
      "______________________________\n",
      "\n",
      "Normalized data\n",
      "Preview:\n",
      " 1    10.165142\n",
      "2     6.468598\n",
      "3     0.000000\n",
      "4     9.129277\n",
      "5    15.836853\n",
      "Name: usd_pledged_real, dtype: float64\n",
      "Minimum value: -0.7779954122762203 \n",
      "Maximum value: 30.69054020451361\n"
     ]
    }
   ],
   "source": [
    "print('Original data\\nPreview:\\n', positive_pledges.head())\n",
    "print('Minimum value:', float(positive_pledges.min()),\n",
    "      '\\nMaximum value:', float(positive_pledges.max()))\n",
    "print('_'*30)\n",
    "\n",
    "print('\\nNormalized data\\nPreview:\\n', normalized_pledges.head())\n",
    "print('Minimum value:', float(normalized_pledges.min()),\n",
    "      '\\nMaximum value:', float(normalized_pledges.max()))"
   ]
  },
  {
   "cell_type": "markdown",
   "id": "af4fe2bc",
   "metadata": {
    "papermill": {
     "duration": 0.018426,
     "end_time": "2021-11-30T09:17:08.711076",
     "exception": false,
     "start_time": "2021-11-30T09:17:08.692650",
     "status": "completed"
    },
    "tags": []
   },
   "source": [
    "We used the \"usd_pledged_real\" column. Follow the same process to normalize the \"pledged\" column. "
   ]
  },
  {
   "cell_type": "code",
   "execution_count": 10,
   "id": "b356da00",
   "metadata": {
    "execution": {
     "iopub.execute_input": "2021-11-30T09:17:08.756624Z",
     "iopub.status.busy": "2021-11-30T09:17:08.756016Z",
     "iopub.status.idle": "2021-11-30T09:17:13.052802Z",
     "shell.execute_reply": "2021-11-30T09:17:13.052322Z"
    },
    "papermill": {
     "duration": 4.322768,
     "end_time": "2021-11-30T09:17:13.052949",
     "exception": false,
     "start_time": "2021-11-30T09:17:08.730181",
     "status": "completed"
    },
    "tags": []
   },
   "outputs": [
    {
     "name": "stderr",
     "output_type": "stream",
     "text": [
      "/opt/conda/lib/python3.7/site-packages/seaborn/distributions.py:2619: FutureWarning: `distplot` is a deprecated function and will be removed in a future version. Please adapt your code to use either `displot` (a figure-level function with similar flexibility) or `histplot` (an axes-level function for histograms).\n",
      "  warnings.warn(msg, FutureWarning)\n",
      "/opt/conda/lib/python3.7/site-packages/seaborn/distributions.py:2619: FutureWarning: `distplot` is a deprecated function and will be removed in a future version. Please adapt your code to use either `displot` (a figure-level function with similar flexibility) or `histplot` (an axes-level function for histograms).\n",
      "  warnings.warn(msg, FutureWarning)\n"
     ]
    },
    {
     "data": {
      "text/plain": [
       "Text(0.5, 1.0, 'Normalized data')"
      ]
     },
     "execution_count": 10,
     "metadata": {},
     "output_type": "execute_result"
    },
    {
     "data": {
      "image/png": "[encoded data removed]",
      "text/plain": [
       "<Figure size 1080x216 with 2 Axes>"
      ]
     },
     "metadata": {
      "needs_background": "light"
     },
     "output_type": "display_data"
    }
   ],
   "source": [
    "# TODO: Your code here!\n",
    "index_of_pledged = kickstarters_2017.pledged > 0\n",
    "\n",
    "positive_pledged = kickstarters_2017.pledged.loc[index_of_pledged]\n",
    "\n",
    "normalized_pledged = pd.Series(stats.boxcox(positive_pledged)[0], name=\"pledged\", index=positive_pledged.index)\n",
    "\n",
    "fig, ax = plt.subplots(1, 2, figsize=(15, 3))\n",
    "sns.distplot(positive_pledged, ax=ax[0])\n",
    "ax[0].set_title(\"Original data\")\n",
    "\n",
    "sns.distplot(normalized_pledged, ax=ax[1])\n",
    "ax[1].set_title(\"Normalized data\")"
   ]
  },
  {
   "cell_type": "markdown",
   "id": "c2c31b48",
   "metadata": {
    "papermill": {
     "duration": 0.020645,
     "end_time": "2021-11-30T09:17:13.094259",
     "exception": false,
     "start_time": "2021-11-30T09:17:13.073614",
     "status": "completed"
    },
    "tags": []
   },
   "source": [
    "How does the normalized \"usd_pledged_real\" column look different from when we normalized the \"pledged\" column?  Or, do they look mostly the same?\n",
    "\n",
    "Once you have an answer, run the code cell below."
   ]
  },
  {
   "cell_type": "code",
   "execution_count": 11,
   "id": "50eed2b9",
   "metadata": {
    "execution": {
     "iopub.execute_input": "2021-11-30T09:17:13.141648Z",
     "iopub.status.busy": "2021-11-30T09:17:13.140768Z",
     "iopub.status.idle": "2021-11-30T09:17:13.145494Z",
     "shell.execute_reply": "2021-11-30T09:17:13.145012Z"
    },
    "papermill": {
     "duration": 0.029576,
     "end_time": "2021-11-30T09:17:13.145625",
     "exception": false,
     "start_time": "2021-11-30T09:17:13.116049",
     "status": "completed"
    },
    "tags": []
   },
   "outputs": [
    {
     "data": {
      "application/javascript": [
       "parent.postMessage({\"jupyterEvent\": \"custom.exercise_interaction\", \"data\": {\"outcomeType\": 1, \"valueTowardsCompletion\": 0.3333333333333333, \"interactionType\": 1, \"questionType\": 4, \"questionId\": \"2_TryNormalization\", \"learnToolsVersion\": \"0.3.4\", \"failureMessage\": \"\", \"exceptionClass\": \"\", \"trace\": \"\"}}, \"*\")"
      ],
      "text/plain": [
       "<IPython.core.display.Javascript object>"
      ]
     },
     "metadata": {},
     "output_type": "display_data"
    },
    {
     "data": {
      "text/markdown": [
       "<span style=\"color:#33cc33\">Correct:</span> \n",
       "\n",
       "The distributions in the normalized data look mostly the same."
      ],
      "text/plain": [
       "Correct: \n",
       "\n",
       "The distributions in the normalized data look mostly the same."
      ]
     },
     "metadata": {},
     "output_type": "display_data"
    }
   ],
   "source": [
    "# Check your answer (Run this code cell to receive credit!)\n",
    "q2.check()"
   ]
  },
  {
   "cell_type": "code",
   "execution_count": 12,
   "id": "b2b5c1fd",
   "metadata": {
    "execution": {
     "iopub.execute_input": "2021-11-30T09:17:13.194140Z",
     "iopub.status.busy": "2021-11-30T09:17:13.193257Z",
     "iopub.status.idle": "2021-11-30T09:17:13.198234Z",
     "shell.execute_reply": "2021-11-30T09:17:13.197606Z"
    },
    "papermill": {
     "duration": 0.031614,
     "end_time": "2021-11-30T09:17:13.198369",
     "exception": false,
     "start_time": "2021-11-30T09:17:13.166755",
     "status": "completed"
    },
    "tags": []
   },
   "outputs": [
    {
     "data": {
      "application/javascript": [
       "parent.postMessage({\"jupyterEvent\": \"custom.exercise_interaction\", \"data\": {\"interactionType\": 2, \"questionType\": 4, \"questionId\": \"2_TryNormalization\", \"learnToolsVersion\": \"0.3.4\", \"valueTowardsCompletion\": 0.0, \"failureMessage\": \"\", \"exceptionClass\": \"\", \"trace\": \"\", \"outcomeType\": 4}}, \"*\")"
      ],
      "text/plain": [
       "<IPython.core.display.Javascript object>"
      ]
     },
     "metadata": {},
     "output_type": "display_data"
    },
    {
     "data": {
      "text/markdown": [
       "<span style=\"color:#3366cc\">Hint:</span> \n",
       "Try running this code:\n",
       "\n",
       "```python\n",
       "# get the index of all positive pledges (Box-Cox only takes positive values)\n",
       "index_positive_pledges = kickstarters_2017.pledged > 0\n",
       "\n",
       "# get only positive pledges (using their indexes)\n",
       "positive_pledges_only = kickstarters_2017.pledged.loc[index_positive_pledges]\n",
       "\n",
       "# normalize the pledges (w/ Box-Cox)\n",
       "normalized_values = pd.Series(stats.boxcox(positive_pledges_only)[0], \n",
       "                              name='pledged', index=positive_pledges_only.index)\n",
       "\n",
       "# plot both together to compare\n",
       "fig, ax = plt.subplots(1,2,figsize=(15,3))\n",
       "sns.distplot(positive_pledges_only, ax=ax[0])\n",
       "ax[0].set_title(\"Original Data\")\n",
       "sns.distplot(normalized_values, ax=ax[1])\n",
       "ax[1].set_title(\"Normalized data\")\n",
       "```\n",
       "\n"
      ],
      "text/plain": [
       "Hint: \n",
       "Try running this code:\n",
       "\n",
       "```python\n",
       "# get the index of all positive pledges (Box-Cox only takes positive values)\n",
       "index_positive_pledges = kickstarters_2017.pledged > 0\n",
       "\n",
       "# get only positive pledges (using their indexes)\n",
       "positive_pledges_only = kickstarters_2017.pledged.loc[index_positive_pledges]\n",
       "\n",
       "# normalize the pledges (w/ Box-Cox)\n",
       "normalized_values = pd.Series(stats.boxcox(positive_pledges_only)[0], \n",
       "                              name='pledged', index=positive_pledges_only.index)\n",
       "\n",
       "# plot both together to compare\n",
       "fig, ax = plt.subplots(1,2,figsize=(15,3))\n",
       "sns.distplot(positive_pledges_only, ax=ax[0])\n",
       "ax[0].set_title(\"Original Data\")\n",
       "sns.distplot(normalized_values, ax=ax[1])\n",
       "ax[1].set_title(\"Normalized data\")\n",
       "```\n"
      ]
     },
     "metadata": {},
     "output_type": "display_data"
    }
   ],
   "source": [
    "# Line below will give you a hint\n",
    "q2.hint()"
   ]
  },
  {
   "cell_type": "markdown",
   "id": "34268d24",
   "metadata": {
    "papermill": {
     "duration": 0.02159,
     "end_time": "2021-11-30T09:17:13.241911",
     "exception": false,
     "start_time": "2021-11-30T09:17:13.220321",
     "status": "completed"
    },
    "tags": []
   },
   "source": [
    "# (Optional) More practice\n",
    "\n",
    "Try finding a new dataset and pretend you're preparing to perform a [regression analysis](https://www.kaggle.com/rtatman/the-5-day-regression-challenge). \n",
    "\n",
    "[These datasets are a good start!](https://www.kaggle.com/rtatman/datasets-for-regression-analysis)\n",
    "\n",
    "Pick three or four variables and decide if you need to normalize or scale any of them and, if you think you should, practice applying the correct technique.\n",
    "\n",
    "# Keep going\n",
    "\n",
    "In the next lesson, learn how to [**parse dates**](https://www.kaggle.com/alexisbcook/parsing-dates) in a dataset."
   ]
  },
  {
   "cell_type": "markdown",
   "id": "23c9fa7b",
   "metadata": {
    "papermill": {
     "duration": 0.021539,
     "end_time": "2021-11-30T09:17:13.285437",
     "exception": false,
     "start_time": "2021-11-30T09:17:13.263898",
     "status": "completed"
    },
    "tags": []
   },
   "source": [
    "---\n",
    "\n",
    "\n",
    "\n",
    "\n",
    "*Have questions or comments? Visit the [Learn Discussion forum](https://www.kaggle.com/learn-forum/172650) to chat with other Learners.*"
   ]
  }
 ],
 "metadata": {
  "kernelspec": {
   "display_name": "Python 3",
   "language": "python",
   "name": "python3"
  },
  "language_info": {
   "codemirror_mode": {
    "name": "ipython",
    "version": 3
   },
   "file_extension": ".py",
   "mimetype": "text/x-python",
   "name": "python",
   "nbconvert_exporter": "python",
   "pygments_lexer": "ipython3",
   "version": "3.7.10"
  },
  "papermill": {
   "default_parameters": {},
   "duration": 26.467807,
   "end_time": "2021-11-30T09:17:14.016600",
   "environment_variables": {},
   "exception": null,
   "input_path": "__notebook__.ipynb",
   "output_path": "__notebook__.ipynb",
   "parameters": {},
   "start_time": "2021-11-30T09:16:47.548793",
   "version": "2.3.3"
  }
 },
 "nbformat": 4,
 "nbformat_minor": 5
}
