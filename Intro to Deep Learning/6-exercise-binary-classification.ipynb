{
 "cells": [
  {
   "cell_type": "markdown",
   "id": "809c8a9e",
   "metadata": {
    "papermill": {
     "duration": 0.012234,
     "end_time": "2021-12-09T09:32:58.728734",
     "exception": false,
     "start_time": "2021-12-09T09:32:58.716500",
     "status": "completed"
    },
    "tags": []
   },
   "source": [
    "**This notebook is an exercise in the [Intro to Deep Learning](https://www.kaggle.com/learn/intro-to-deep-learning) course.  You can reference the tutorial at [this link](https://www.kaggle.com/ryanholbrook/binary-classification).**\n",
    "\n",
    "---\n"
   ]
  },
  {
   "cell_type": "markdown",
   "id": "2ff7b1da",
   "metadata": {
    "papermill": {
     "duration": 0.010753,
     "end_time": "2021-12-09T09:32:58.750938",
     "exception": false,
     "start_time": "2021-12-09T09:32:58.740185",
     "status": "completed"
    },
    "tags": []
   },
   "source": [
    "# Introduction #\n",
    "\n",
    "In this exercise, you'll build a model to predict hotel cancellations with a binary classifier."
   ]
  },
  {
   "cell_type": "code",
   "execution_count": 1,
   "id": "66373282",
   "metadata": {
    "execution": {
     "iopub.execute_input": "2021-12-09T09:32:58.781364Z",
     "iopub.status.busy": "2021-12-09T09:32:58.780753Z",
     "iopub.status.idle": "2021-12-09T09:32:58.825078Z",
     "shell.execute_reply": "2021-12-09T09:32:58.824264Z",
     "shell.execute_reply.started": "2021-12-09T09:19:55.796042Z"
    },
    "lines_to_next_cell": 0,
    "papermill": {
     "duration": 0.063259,
     "end_time": "2021-12-09T09:32:58.825282",
     "exception": false,
     "start_time": "2021-12-09T09:32:58.762023",
     "status": "completed"
    },
    "tags": []
   },
   "outputs": [],
   "source": [
    "# Setup plotting\n",
    "import matplotlib.pyplot as plt\n",
    "plt.style.use('seaborn-whitegrid')\n",
    "# Set Matplotlib defaults\n",
    "plt.rc('figure', autolayout=True)\n",
    "plt.rc('axes', labelweight='bold', labelsize='large',\n",
    "       titleweight='bold', titlesize=18, titlepad=10)\n",
    "plt.rc('animation', html='html5')\n",
    "\n",
    "# Setup feedback system\n",
    "from learntools.core import binder\n",
    "binder.bind(globals())\n",
    "from learntools.deep_learning_intro.ex6 import *"
   ]
  },
  {
   "cell_type": "markdown",
   "id": "2717295a",
   "metadata": {
    "papermill": {
     "duration": 0.011013,
     "end_time": "2021-12-09T09:32:58.847621",
     "exception": false,
     "start_time": "2021-12-09T09:32:58.836608",
     "status": "completed"
    },
    "tags": []
   },
   "source": [
    "First, load the *Hotel Cancellations* dataset."
   ]
  },
  {
   "cell_type": "code",
   "execution_count": 2,
   "id": "e1b92d9a",
   "metadata": {
    "execution": {
     "iopub.execute_input": "2021-12-09T09:32:58.882466Z",
     "iopub.status.busy": "2021-12-09T09:32:58.881624Z",
     "iopub.status.idle": "2021-12-09T09:33:01.724610Z",
     "shell.execute_reply": "2021-12-09T09:33:01.724009Z",
     "shell.execute_reply.started": "2021-12-09T09:21:10.499820Z"
    },
    "lines_to_next_cell": 2,
    "papermill": {
     "duration": 2.865969,
     "end_time": "2021-12-09T09:33:01.724752",
     "exception": false,
     "start_time": "2021-12-09T09:32:58.858783",
     "status": "completed"
    },
    "tags": []
   },
   "outputs": [],
   "source": [
    "import pandas as pd\n",
    "\n",
    "from sklearn.model_selection import train_test_split\n",
    "from sklearn.preprocessing import StandardScaler, OneHotEncoder\n",
    "from sklearn.impute import SimpleImputer\n",
    "from sklearn.pipeline import make_pipeline\n",
    "from sklearn.compose import make_column_transformer\n",
    "\n",
    "hotel = pd.read_csv('../input/dl-course-data/hotel.csv')\n",
    "\n",
    "X = hotel.copy()\n",
    "y = X.pop('is_canceled')\n",
    "\n",
    "X['arrival_date_month'] = \\\n",
    "    X['arrival_date_month'].map(\n",
    "        {'January':1, 'February': 2, 'March':3,\n",
    "         'April':4, 'May':5, 'June':6, 'July':7,\n",
    "         'August':8, 'September':9, 'October':10,\n",
    "         'November':11, 'December':12}\n",
    "    )\n",
    "\n",
    "features_num = [\n",
    "    \"lead_time\", \"arrival_date_week_number\",\n",
    "    \"arrival_date_day_of_month\", \"stays_in_weekend_nights\",\n",
    "    \"stays_in_week_nights\", \"adults\", \"children\", \"babies\",\n",
    "    \"is_repeated_guest\", \"previous_cancellations\",\n",
    "    \"previous_bookings_not_canceled\", \"required_car_parking_spaces\",\n",
    "    \"total_of_special_requests\", \"adr\",\n",
    "]\n",
    "features_cat = [\n",
    "    \"hotel\", \"arrival_date_month\", \"meal\",\n",
    "    \"market_segment\", \"distribution_channel\",\n",
    "    \"reserved_room_type\", \"deposit_type\", \"customer_type\",\n",
    "]\n",
    "\n",
    "transformer_num = make_pipeline(\n",
    "    SimpleImputer(strategy=\"constant\"), # there are a few missing values\n",
    "    StandardScaler(),\n",
    ")\n",
    "transformer_cat = make_pipeline(\n",
    "    SimpleImputer(strategy=\"constant\", fill_value=\"NA\"),\n",
    "    OneHotEncoder(handle_unknown='ignore'),\n",
    ")\n",
    "\n",
    "preprocessor = make_column_transformer(\n",
    "    (transformer_num, features_num),\n",
    "    (transformer_cat, features_cat),\n",
    ")\n",
    "\n",
    "# stratify - make sure classes are evenlly represented across splits\n",
    "X_train, X_valid, y_train, y_valid = \\\n",
    "    train_test_split(X, y, stratify=y, train_size=0.75)\n",
    "\n",
    "X_train = preprocessor.fit_transform(X_train)\n",
    "X_valid = preprocessor.transform(X_valid)\n",
    "\n",
    "input_shape = [X_train.shape[1]]"
   ]
  },
  {
   "cell_type": "markdown",
   "id": "ea10c46a",
   "metadata": {
    "papermill": {
     "duration": 0.012027,
     "end_time": "2021-12-09T09:33:01.750368",
     "exception": false,
     "start_time": "2021-12-09T09:33:01.738341",
     "status": "completed"
    },
    "tags": []
   },
   "source": [
    "# 1) Define Model #\n",
    "\n",
    "The model we'll use this time will have both batch normalization and dropout layers. To ease reading we've broken the diagram into blocks, but you can define it layer by layer as usual.\n",
    "\n",
    "Define a model with an architecture given by this diagram:\n",
    "\n",
    "<figure style=\"padding: 1em;\">\n",
    "<img src=\"https://i.imgur.com/V04o59Z.png\" width=\"400\" alt=\"Diagram of network architecture: BatchNorm, Dense, BatchNorm, Dropout, Dense, BatchNorm, Dropout, Dense.\">\n",
    "<figcaption style=\"textalign: center; font-style: italic\"><center>Diagram of a binary classifier.</center></figcaption>\n",
    "</figure>\n"
   ]
  },
  {
   "cell_type": "code",
   "execution_count": 3,
   "id": "e95efd2b",
   "metadata": {
    "execution": {
     "iopub.execute_input": "2021-12-09T09:33:01.787275Z",
     "iopub.status.busy": "2021-12-09T09:33:01.786328Z",
     "iopub.status.idle": "2021-12-09T09:33:08.077191Z",
     "shell.execute_reply": "2021-12-09T09:33:08.077705Z",
     "shell.execute_reply.started": "2021-12-09T09:25:15.887671Z"
    },
    "lines_to_next_cell": 2,
    "papermill": {
     "duration": 6.316041,
     "end_time": "2021-12-09T09:33:08.077871",
     "exception": false,
     "start_time": "2021-12-09T09:33:01.761830",
     "status": "completed"
    },
    "tags": []
   },
   "outputs": [
    {
     "name": "stderr",
     "output_type": "stream",
     "text": [
      "\n",
      "User settings:\n",
      "\n",
      "   KMP_AFFINITY=granularity=fine,verbose,compact,1,0\n",
      "   KMP_BLOCKTIME=0\n",
      "   KMP_DUPLICATE_LIB_OK=True\n",
      "   KMP_INIT_AT_FORK=FALSE\n",
      "   KMP_SETTINGS=1\n",
      "   KMP_WARNINGS=0\n",
      "\n",
      "Effective settings:\n",
      "\n",
      "   KMP_ABORT_DELAY=0\n",
      "   KMP_ADAPTIVE_LOCK_PROPS='1,1024'\n",
      "   KMP_ALIGN_ALLOC=64\n",
      "   KMP_ALL_THREADPRIVATE=128\n",
      "   KMP_ATOMIC_MODE=2\n",
      "   KMP_BLOCKTIME=0\n",
      "   KMP_CPUINFO_FILE: value is not defined\n",
      "   KMP_DETERMINISTIC_REDUCTION=false\n",
      "   KMP_DEVICE_THREAD_LIMIT=2147483647\n",
      "   KMP_DISP_NUM_BUFFERS=7\n",
      "   KMP_DUPLICATE_LIB_OK=true\n",
      "   KMP_ENABLE_TASK_THROTTLING=true\n",
      "   KMP_FORCE_REDUCTION: value is not defined\n",
      "   KMP_FOREIGN_THREADS_THREADPRIVATE=true\n",
      "   KMP_FORKJOIN_BARRIER='2,2'\n",
      "   KMP_FORKJOIN_BARRIER_PATTERN='hyper,hyper'\n",
      "   KMP_GTID_MODE=3\n",
      "   KMP_HANDLE_SIGNALS=false\n",
      "   KMP_HOT_TEAMS_MAX_LEVEL=1\n",
      "   KMP_HOT_TEAMS_MODE=0\n",
      "   KMP_INIT_AT_FORK=true\n",
      "   KMP_LIBRARY=throughput\n",
      "   KMP_LOCK_KIND=queuing\n",
      "   KMP_MALLOC_POOL_INCR=1M\n",
      "   KMP_NUM_LOCKS_IN_BLOCK=1\n",
      "   KMP_PLAIN_BARRIER='2,2'\n",
      "   KMP_PLAIN_BARRIER_PATTERN='hyper,hyper'\n",
      "   KMP_REDUCTION_BARRIER='1,1'\n",
      "   KMP_REDUCTION_BARRIER_PATTERN='hyper,hyper'\n",
      "   KMP_SCHEDULE='static,balanced;guided,iterative'\n",
      "   KMP_SETTINGS=true\n",
      "   KMP_SPIN_BACKOFF_PARAMS='4096,100'\n",
      "   KMP_STACKOFFSET=64\n",
      "   KMP_STACKPAD=0\n",
      "   KMP_STACKSIZE=8M\n",
      "   KMP_STORAGE_MAP=false\n",
      "   KMP_TASKING=2\n",
      "   KMP_TASKLOOP_MIN_TASKS=0\n",
      "   KMP_TASK_STEALING_CONSTRAINT=1\n",
      "   KMP_TEAMS_THREAD_LIMIT=4\n",
      "   KMP_TOPOLOGY_METHOD=all\n",
      "   KMP_USE_YIELD=1\n",
      "   KMP_VERSION=false\n",
      "   KMP_WARNINGS=false\n",
      "   OMP_AFFINITY_FORMAT='OMP: pid %P tid %i thread %n bound to OS proc set {%A}'\n",
      "   OMP_ALLOCATOR=omp_default_mem_alloc\n",
      "   OMP_CANCELLATION=false\n",
      "   OMP_DEFAULT_DEVICE=0\n",
      "   OMP_DISPLAY_AFFINITY=false\n",
      "   OMP_DISPLAY_ENV=false\n",
      "   OMP_DYNAMIC=false\n",
      "   OMP_MAX_ACTIVE_LEVELS=1\n",
      "   OMP_MAX_TASK_PRIORITY=0\n",
      "   OMP_NESTED: deprecated; max-active-levels-var=1\n",
      "   OMP_NUM_THREADS: value is not defined\n",
      "   OMP_PLACES: value is not defined\n",
      "   OMP_PROC_BIND='intel'\n",
      "   OMP_SCHEDULE='static'\n",
      "   OMP_STACKSIZE=8M\n",
      "   OMP_TARGET_OFFLOAD=DEFAULT\n",
      "   OMP_THREAD_LIMIT=2147483647\n",
      "   OMP_WAIT_POLICY=PASSIVE\n",
      "   KMP_AFFINITY='verbose,warnings,respect,granularity=fine,compact,1,0'\n",
      "\n",
      "2021-12-09 09:33:07.948481: I tensorflow/core/common_runtime/process_util.cc:146] Creating new thread pool with default inter op setting: 2. Tune using inter_op_parallelism_threads for best performance.\n"
     ]
    },
    {
     "data": {
      "application/javascript": [
       "parent.postMessage({\"jupyterEvent\": \"custom.exercise_interaction\", \"data\": {\"outcomeType\": 1, \"valueTowardsCompletion\": 0.3333333333333333, \"interactionType\": 1, \"questionType\": 2, \"questionId\": \"1_Q1\", \"learnToolsVersion\": \"0.3.4\", \"failureMessage\": \"\", \"exceptionClass\": \"\", \"trace\": \"\"}}, \"*\")"
      ],
      "text/plain": [
       "<IPython.core.display.Javascript object>"
      ]
     },
     "metadata": {},
     "output_type": "display_data"
    },
    {
     "data": {
      "text/markdown": [
       "<span style=\"color:#33cc33\">Correct</span>"
      ],
      "text/plain": [
       "Correct"
      ]
     },
     "metadata": {},
     "output_type": "display_data"
    }
   ],
   "source": [
    "from tensorflow import keras\n",
    "from tensorflow.keras import layers\n",
    "\n",
    "# YOUR CODE HERE: define the model given in the diagram\n",
    "model = keras.Sequential([\n",
    "    layers.BatchNormalization(input_shape=input_shape),\n",
    "    \n",
    "    layers.Dense(256, activation=\"relu\"),\n",
    "    layers.BatchNormalization(),\n",
    "    layers.Dropout(0.3),\n",
    "    \n",
    "    layers.Dense(256, activation=\"relu\"),\n",
    "    layers.BatchNormalization(),\n",
    "    layers.Dropout(0.3),\n",
    "    \n",
    "    layers.Dense(1, activation=\"sigmoid\")\n",
    "])\n",
    "\n",
    "# Check your answer\n",
    "q_1.check()"
   ]
  },
  {
   "cell_type": "markdown",
   "id": "1660c4e1",
   "metadata": {
    "papermill": {
     "duration": 0.012519,
     "end_time": "2021-12-09T09:33:08.103353",
     "exception": false,
     "start_time": "2021-12-09T09:33:08.090834",
     "status": "completed"
    },
    "tags": []
   },
   "source": [
    "# 2) Add Optimizer, Loss, and Metric #\n",
    "\n",
    "Now compile the model with the Adam optimizer and binary versions of the cross-entropy loss and accuracy metric."
   ]
  },
  {
   "cell_type": "code",
   "execution_count": 4,
   "id": "93bccae0",
   "metadata": {
    "execution": {
     "iopub.execute_input": "2021-12-09T09:33:08.131872Z",
     "iopub.status.busy": "2021-12-09T09:33:08.131194Z",
     "iopub.status.idle": "2021-12-09T09:33:08.147173Z",
     "shell.execute_reply": "2021-12-09T09:33:08.147768Z",
     "shell.execute_reply.started": "2021-12-09T09:26:22.137943Z"
    },
    "lines_to_next_cell": 0,
    "papermill": {
     "duration": 0.031841,
     "end_time": "2021-12-09T09:33:08.147934",
     "exception": false,
     "start_time": "2021-12-09T09:33:08.116093",
     "status": "completed"
    },
    "tags": []
   },
   "outputs": [
    {
     "data": {
      "application/javascript": [
       "parent.postMessage({\"jupyterEvent\": \"custom.exercise_interaction\", \"data\": {\"outcomeType\": 1, \"valueTowardsCompletion\": 0.3333333333333333, \"interactionType\": 1, \"questionType\": 2, \"questionId\": \"2_Q2\", \"learnToolsVersion\": \"0.3.4\", \"failureMessage\": \"\", \"exceptionClass\": \"\", \"trace\": \"\"}}, \"*\")"
      ],
      "text/plain": [
       "<IPython.core.display.Javascript object>"
      ]
     },
     "metadata": {},
     "output_type": "display_data"
    },
    {
     "data": {
      "text/markdown": [
       "<span style=\"color:#33cc33\">Correct</span>"
      ],
      "text/plain": [
       "Correct"
      ]
     },
     "metadata": {},
     "output_type": "display_data"
    }
   ],
   "source": [
    "# YOUR CODE HERE\n",
    "model.compile(\n",
    "    optimizer=\"adam\", \n",
    "    loss=\"binary_crossentropy\",\n",
    "    metrics=[\"binary_accuracy\"]\n",
    ")\n",
    "\n",
    "# Check your answer\n",
    "q_2.check()"
   ]
  },
  {
   "cell_type": "code",
   "execution_count": 5,
   "id": "227c7811",
   "metadata": {
    "execution": {
     "iopub.execute_input": "2021-12-09T09:33:08.178344Z",
     "iopub.status.busy": "2021-12-09T09:33:08.177735Z",
     "iopub.status.idle": "2021-12-09T09:33:08.187466Z",
     "shell.execute_reply": "2021-12-09T09:33:08.187987Z",
     "shell.execute_reply.started": "2021-12-09T09:26:28.097910Z"
    },
    "lines_to_next_cell": 0,
    "papermill": {
     "duration": 0.026499,
     "end_time": "2021-12-09T09:33:08.188150",
     "exception": false,
     "start_time": "2021-12-09T09:33:08.161651",
     "status": "completed"
    },
    "tags": []
   },
   "outputs": [
    {
     "data": {
      "application/javascript": [
       "parent.postMessage({\"jupyterEvent\": \"custom.exercise_interaction\", \"data\": {\"interactionType\": 2, \"questionType\": 2, \"questionId\": \"2_Q2\", \"learnToolsVersion\": \"0.3.4\", \"valueTowardsCompletion\": 0.0, \"failureMessage\": \"\", \"exceptionClass\": \"\", \"trace\": \"\", \"outcomeType\": 4}}, \"*\")"
      ],
      "text/plain": [
       "<IPython.core.display.Javascript object>"
      ]
     },
     "metadata": {},
     "output_type": "display_data"
    },
    {
     "data": {
      "text/markdown": [
       "<span style=\"color:#3366cc\">Hint:</span> Your code should look something like:\n",
       "```python\n",
       "model.compile(\n",
       "optimizer=____,\n",
       "loss=____,\n",
       "metrics=____,\n",
       ")\n",
       "```\n"
      ],
      "text/plain": [
       "Hint: Your code should look something like:\n",
       "```python\n",
       "model.compile(\n",
       "optimizer=____,\n",
       "loss=____,\n",
       "metrics=____,\n",
       ")\n",
       "```"
      ]
     },
     "metadata": {},
     "output_type": "display_data"
    },
    {
     "data": {
      "application/javascript": [
       "parent.postMessage({\"jupyterEvent\": \"custom.exercise_interaction\", \"data\": {\"interactionType\": 3, \"questionType\": 2, \"questionId\": \"2_Q2\", \"learnToolsVersion\": \"0.3.4\", \"valueTowardsCompletion\": 0.0, \"failureMessage\": \"\", \"exceptionClass\": \"\", \"trace\": \"\", \"outcomeType\": 4}}, \"*\")"
      ],
      "text/plain": [
       "<IPython.core.display.Javascript object>"
      ]
     },
     "metadata": {},
     "output_type": "display_data"
    },
    {
     "data": {
      "text/markdown": [
       "<span style=\"color:#33cc99\">Solution:</span> \n",
       "```python\n",
       "\n",
       "model.compile(\n",
       "    optimizer='adam',\n",
       "    loss='binary_crossentropy',\n",
       "    metrics=['binary_accuracy'],\n",
       ")\n",
       "\n",
       "```"
      ],
      "text/plain": [
       "Solution: \n",
       "```python\n",
       "\n",
       "model.compile(\n",
       "    optimizer='adam',\n",
       "    loss='binary_crossentropy',\n",
       "    metrics=['binary_accuracy'],\n",
       ")\n",
       "\n",
       "```"
      ]
     },
     "metadata": {},
     "output_type": "display_data"
    }
   ],
   "source": [
    "# Lines below will give you a hint or solution code\n",
    "q_2.hint()\n",
    "q_2.solution()"
   ]
  },
  {
   "cell_type": "markdown",
   "id": "735d5b2c",
   "metadata": {
    "papermill": {
     "duration": 0.015433,
     "end_time": "2021-12-09T09:33:08.219399",
     "exception": false,
     "start_time": "2021-12-09T09:33:08.203966",
     "status": "completed"
    },
    "tags": []
   },
   "source": [
    "Finally, run this cell to train the model and view the learning curves. It may run for around 60 to 70 epochs, which could take a minute or two."
   ]
  },
  {
   "cell_type": "code",
   "execution_count": 6,
   "id": "dde15cd1",
   "metadata": {
    "execution": {
     "iopub.execute_input": "2021-12-09T09:33:08.254826Z",
     "iopub.status.busy": "2021-12-09T09:33:08.253834Z",
     "iopub.status.idle": "2021-12-09T09:34:46.334730Z",
     "shell.execute_reply": "2021-12-09T09:34:46.334128Z",
     "shell.execute_reply.started": "2021-12-09T09:26:48.278851Z"
    },
    "papermill": {
     "duration": 98.09929,
     "end_time": "2021-12-09T09:34:46.334875",
     "exception": false,
     "start_time": "2021-12-09T09:33:08.235585",
     "status": "completed"
    },
    "tags": []
   },
   "outputs": [
    {
     "name": "stderr",
     "output_type": "stream",
     "text": [
      "2021-12-09 09:33:08.364741: I tensorflow/compiler/mlir/mlir_graph_optimization_pass.cc:185] None of the MLIR Optimization Passes are enabled (registered 2)\n"
     ]
    },
    {
     "name": "stdout",
     "output_type": "stream",
     "text": [
      "Epoch 1/200\n",
      "175/175 [==============================] - 4s 15ms/step - loss: 0.4866 - binary_accuracy: 0.7704 - val_loss: 0.4330 - val_binary_accuracy: 0.7937\n",
      "Epoch 2/200\n",
      "175/175 [==============================] - 2s 13ms/step - loss: 0.4255 - binary_accuracy: 0.8008 - val_loss: 0.4038 - val_binary_accuracy: 0.8103\n",
      "Epoch 3/200\n",
      "175/175 [==============================] - 2s 13ms/step - loss: 0.4115 - binary_accuracy: 0.8075 - val_loss: 0.3933 - val_binary_accuracy: 0.8187\n",
      "Epoch 4/200\n",
      "175/175 [==============================] - 2s 13ms/step - loss: 0.4033 - binary_accuracy: 0.8113 - val_loss: 0.3882 - val_binary_accuracy: 0.8216\n",
      "Epoch 5/200\n",
      "175/175 [==============================] - 2s 14ms/step - loss: 0.3974 - binary_accuracy: 0.8131 - val_loss: 0.3833 - val_binary_accuracy: 0.8242\n",
      "Epoch 6/200\n",
      "175/175 [==============================] - 2s 13ms/step - loss: 0.3947 - binary_accuracy: 0.8154 - val_loss: 0.3802 - val_binary_accuracy: 0.8261\n",
      "Epoch 7/200\n",
      "175/175 [==============================] - 2s 13ms/step - loss: 0.3903 - binary_accuracy: 0.8187 - val_loss: 0.3778 - val_binary_accuracy: 0.8287\n",
      "Epoch 8/200\n",
      "175/175 [==============================] - 2s 13ms/step - loss: 0.3857 - binary_accuracy: 0.8211 - val_loss: 0.3745 - val_binary_accuracy: 0.8303\n",
      "Epoch 9/200\n",
      "175/175 [==============================] - 2s 13ms/step - loss: 0.3832 - binary_accuracy: 0.8218 - val_loss: 0.3723 - val_binary_accuracy: 0.8309\n",
      "Epoch 10/200\n",
      "175/175 [==============================] - 2s 14ms/step - loss: 0.3805 - binary_accuracy: 0.8231 - val_loss: 0.3711 - val_binary_accuracy: 0.8292\n",
      "Epoch 11/200\n",
      "175/175 [==============================] - 3s 16ms/step - loss: 0.3762 - binary_accuracy: 0.8255 - val_loss: 0.3678 - val_binary_accuracy: 0.8321\n",
      "Epoch 12/200\n",
      "175/175 [==============================] - 2s 14ms/step - loss: 0.3767 - binary_accuracy: 0.8257 - val_loss: 0.3693 - val_binary_accuracy: 0.8328\n",
      "Epoch 13/200\n",
      "175/175 [==============================] - 2s 13ms/step - loss: 0.3725 - binary_accuracy: 0.8264 - val_loss: 0.3641 - val_binary_accuracy: 0.8345\n",
      "Epoch 14/200\n",
      "175/175 [==============================] - 2s 14ms/step - loss: 0.3704 - binary_accuracy: 0.8279 - val_loss: 0.3652 - val_binary_accuracy: 0.8326\n",
      "Epoch 15/200\n",
      "175/175 [==============================] - 2s 13ms/step - loss: 0.3686 - binary_accuracy: 0.8302 - val_loss: 0.3668 - val_binary_accuracy: 0.8328\n",
      "Epoch 16/200\n",
      "175/175 [==============================] - 2s 13ms/step - loss: 0.3676 - binary_accuracy: 0.8312 - val_loss: 0.3602 - val_binary_accuracy: 0.8356\n",
      "Epoch 17/200\n",
      "175/175 [==============================] - 2s 13ms/step - loss: 0.3653 - binary_accuracy: 0.8307 - val_loss: 0.3624 - val_binary_accuracy: 0.8347\n",
      "Epoch 18/200\n",
      "175/175 [==============================] - 2s 13ms/step - loss: 0.3635 - binary_accuracy: 0.8316 - val_loss: 0.3576 - val_binary_accuracy: 0.8372\n",
      "Epoch 19/200\n",
      "175/175 [==============================] - 2s 14ms/step - loss: 0.3620 - binary_accuracy: 0.8321 - val_loss: 0.3582 - val_binary_accuracy: 0.8344\n",
      "Epoch 20/200\n",
      "175/175 [==============================] - 2s 14ms/step - loss: 0.3603 - binary_accuracy: 0.8337 - val_loss: 0.3608 - val_binary_accuracy: 0.8358\n",
      "Epoch 21/200\n",
      "175/175 [==============================] - 2s 13ms/step - loss: 0.3592 - binary_accuracy: 0.8332 - val_loss: 0.3563 - val_binary_accuracy: 0.8385\n",
      "Epoch 22/200\n",
      "175/175 [==============================] - 2s 13ms/step - loss: 0.3584 - binary_accuracy: 0.8339 - val_loss: 0.3546 - val_binary_accuracy: 0.8368\n",
      "Epoch 23/200\n",
      "175/175 [==============================] - 2s 14ms/step - loss: 0.3553 - binary_accuracy: 0.8352 - val_loss: 0.3530 - val_binary_accuracy: 0.8401\n",
      "Epoch 24/200\n",
      "175/175 [==============================] - 3s 17ms/step - loss: 0.3550 - binary_accuracy: 0.8359 - val_loss: 0.3541 - val_binary_accuracy: 0.8391\n",
      "Epoch 25/200\n",
      "175/175 [==============================] - 2s 14ms/step - loss: 0.3533 - binary_accuracy: 0.8373 - val_loss: 0.3530 - val_binary_accuracy: 0.8380\n",
      "Epoch 26/200\n",
      "175/175 [==============================] - 2s 13ms/step - loss: 0.3535 - binary_accuracy: 0.8373 - val_loss: 0.3515 - val_binary_accuracy: 0.8392\n",
      "Epoch 27/200\n",
      "175/175 [==============================] - 2s 13ms/step - loss: 0.3517 - binary_accuracy: 0.8374 - val_loss: 0.3513 - val_binary_accuracy: 0.8391\n",
      "Epoch 28/200\n",
      "175/175 [==============================] - 2s 13ms/step - loss: 0.3520 - binary_accuracy: 0.8377 - val_loss: 0.3511 - val_binary_accuracy: 0.8398\n",
      "Epoch 29/200\n",
      "175/175 [==============================] - 2s 13ms/step - loss: 0.3503 - binary_accuracy: 0.8378 - val_loss: 0.3514 - val_binary_accuracy: 0.8407\n",
      "Epoch 30/200\n",
      "175/175 [==============================] - 2s 13ms/step - loss: 0.3484 - binary_accuracy: 0.8395 - val_loss: 0.3495 - val_binary_accuracy: 0.8399\n",
      "Epoch 31/200\n",
      "175/175 [==============================] - 2s 13ms/step - loss: 0.3461 - binary_accuracy: 0.8401 - val_loss: 0.3500 - val_binary_accuracy: 0.8410\n",
      "Epoch 32/200\n",
      "175/175 [==============================] - 2s 13ms/step - loss: 0.3463 - binary_accuracy: 0.8399 - val_loss: 0.3502 - val_binary_accuracy: 0.8398\n",
      "Epoch 33/200\n",
      "175/175 [==============================] - 2s 14ms/step - loss: 0.3460 - binary_accuracy: 0.8400 - val_loss: 0.3491 - val_binary_accuracy: 0.8404\n",
      "Epoch 34/200\n",
      "175/175 [==============================] - 2s 13ms/step - loss: 0.3439 - binary_accuracy: 0.8412 - val_loss: 0.3503 - val_binary_accuracy: 0.8386\n",
      "Epoch 35/200\n",
      "175/175 [==============================] - 2s 13ms/step - loss: 0.3446 - binary_accuracy: 0.8409 - val_loss: 0.3480 - val_binary_accuracy: 0.8412\n",
      "Epoch 36/200\n",
      "175/175 [==============================] - 2s 13ms/step - loss: 0.3437 - binary_accuracy: 0.8414 - val_loss: 0.3478 - val_binary_accuracy: 0.8421\n",
      "Epoch 37/200\n",
      "175/175 [==============================] - 3s 15ms/step - loss: 0.3410 - binary_accuracy: 0.8429 - val_loss: 0.3499 - val_binary_accuracy: 0.8420\n",
      "Epoch 38/200\n",
      "175/175 [==============================] - 3s 16ms/step - loss: 0.3404 - binary_accuracy: 0.8421 - val_loss: 0.3483 - val_binary_accuracy: 0.8413\n",
      "Epoch 39/200\n",
      "175/175 [==============================] - 2s 13ms/step - loss: 0.3406 - binary_accuracy: 0.8414 - val_loss: 0.3488 - val_binary_accuracy: 0.8414\n",
      "Epoch 40/200\n",
      "175/175 [==============================] - 2s 14ms/step - loss: 0.3404 - binary_accuracy: 0.8424 - val_loss: 0.3474 - val_binary_accuracy: 0.8427\n"
     ]
    },
    {
     "data": {
      "text/plain": [
       "<AxesSubplot:title={'center':'Accuracy'}>"
      ]
     },
     "execution_count": 6,
     "metadata": {},
     "output_type": "execute_result"
    },
    {
     "data": {
      "image/png": "[encoded data removed]",
      "text/plain": [
       "<Figure size 432x288 with 1 Axes>"
      ]
     },
     "metadata": {},
     "output_type": "display_data"
    },
    {
     "data": {
      "image/png": "[encoded data removed]",
      "text/plain": [
       "<Figure size 432x288 with 1 Axes>"
      ]
     },
     "metadata": {},
     "output_type": "display_data"
    }
   ],
   "source": [
    "early_stopping = keras.callbacks.EarlyStopping(\n",
    "    patience=5,\n",
    "    min_delta=0.001,\n",
    "    restore_best_weights=True,\n",
    ")\n",
    "history = model.fit(\n",
    "    X_train, y_train,\n",
    "    validation_data=(X_valid, y_valid),\n",
    "    batch_size=512,\n",
    "    epochs=200,\n",
    "    callbacks=[early_stopping],\n",
    ")\n",
    "\n",
    "history_df = pd.DataFrame(history.history)\n",
    "history_df.loc[:, ['loss', 'val_loss']].plot(title=\"Cross-entropy\")\n",
    "history_df.loc[:, ['binary_accuracy', 'val_binary_accuracy']].plot(title=\"Accuracy\")"
   ]
  },
  {
   "cell_type": "markdown",
   "id": "55b48b9b",
   "metadata": {
    "papermill": {
     "duration": 0.490792,
     "end_time": "2021-12-09T09:34:47.320700",
     "exception": false,
     "start_time": "2021-12-09T09:34:46.829908",
     "status": "completed"
    },
    "tags": []
   },
   "source": [
    "# 3) Train and Evaluate #\n",
    "\n",
    "\n",
    "What do you think about the learning curves? Does it look like the model underfit or overfit? Was the cross-entropy loss a good stand-in for accuracy?"
   ]
  },
  {
   "cell_type": "code",
   "execution_count": 7,
   "id": "c2b1821c",
   "metadata": {
    "execution": {
     "iopub.execute_input": "2021-12-09T09:34:48.309904Z",
     "iopub.status.busy": "2021-12-09T09:34:48.308842Z",
     "iopub.status.idle": "2021-12-09T09:34:48.313746Z",
     "shell.execute_reply": "2021-12-09T09:34:48.314218Z",
     "shell.execute_reply.started": "2021-12-09T09:31:29.541400Z"
    },
    "papermill": {
     "duration": 0.500123,
     "end_time": "2021-12-09T09:34:48.314407",
     "exception": false,
     "start_time": "2021-12-09T09:34:47.814284",
     "status": "completed"
    },
    "tags": []
   },
   "outputs": [
    {
     "data": {
      "application/javascript": [
       "parent.postMessage({\"jupyterEvent\": \"custom.exercise_interaction\", \"data\": {\"outcomeType\": 1, \"valueTowardsCompletion\": 0.3333333333333333, \"interactionType\": 1, \"questionType\": 4, \"questionId\": \"3_Q3\", \"learnToolsVersion\": \"0.3.4\", \"failureMessage\": \"\", \"exceptionClass\": \"\", \"trace\": \"\"}}, \"*\")"
      ],
      "text/plain": [
       "<IPython.core.display.Javascript object>"
      ]
     },
     "metadata": {},
     "output_type": "display_data"
    },
    {
     "data": {
      "text/markdown": [
       "<span style=\"color:#33cc33\">Correct:</span> \n",
       "\n",
       "Though we can see the training loss continuing to fall, the early stopping callback prevented any overfitting. Moreover, the accuracy rose at the same rate as the cross-entropy fell, so it appears that minimizing cross-entropy was a good stand-in. All in all, it looks like this training was a success!"
      ],
      "text/plain": [
       "Correct: \n",
       "\n",
       "Though we can see the training loss continuing to fall, the early stopping callback prevented any overfitting. Moreover, the accuracy rose at the same rate as the cross-entropy fell, so it appears that minimizing cross-entropy was a good stand-in. All in all, it looks like this training was a success!"
      ]
     },
     "metadata": {},
     "output_type": "display_data"
    }
   ],
   "source": [
    "# View the solution (Run this cell to receive credit!)\n",
    "q_3.check()"
   ]
  },
  {
   "cell_type": "markdown",
   "id": "070ce28e",
   "metadata": {
    "papermill": {
     "duration": 0.49461,
     "end_time": "2021-12-09T09:34:49.334547",
     "exception": false,
     "start_time": "2021-12-09T09:34:48.839937",
     "status": "completed"
    },
    "tags": []
   },
   "source": [
    "# Conclusion #\n",
    "\n",
    "Congratulations! You've completed Kaggle's *Introduction to Deep Learning* course!\n",
    "\n",
    "With your new skills you're ready to take on more advanced applications like computer vision and sentiment classification. What would you like to do next?\n",
    "\n",
    "Why not try one of our *Getting Started* competitions?\n",
    "\n",
    "- Classify images with TPUs in [**Petals to the Metal**](https://www.kaggle.com/c/tpu-getting-started)\n",
    "- Create art with GANs in [**I'm Something of a Painter Myself**](https://www.kaggle.com/c/gan-getting-started)\n",
    "- Classify Tweets in [**Real or Not? NLP with Disaster Tweets**](https://www.kaggle.com/c/nlp-getting-started)\n",
    "- Detect contradiction and entailment in [**Contradictory, My Dear Watson**](https://www.kaggle.com/c/contradictory-my-dear-watson)\n",
    "\n",
    "Until next time, Kagglers!"
   ]
  },
  {
   "cell_type": "markdown",
   "id": "d81980fe",
   "metadata": {
    "papermill": {
     "duration": 0.490437,
     "end_time": "2021-12-09T09:34:50.314406",
     "exception": false,
     "start_time": "2021-12-09T09:34:49.823969",
     "status": "completed"
    },
    "tags": []
   },
   "source": [
    "---\n",
    "\n",
    "\n",
    "\n",
    "\n",
    "*Have questions or comments? Visit the [course discussion forum](https://www.kaggle.com/learn/intro-to-deep-learning/discussion) to chat with other learners.*"
   ]
  }
 ],
 "metadata": {
  "kernelspec": {
   "display_name": "Python 3",
   "language": "python",
   "name": "python3"
  },
  "language_info": {
   "codemirror_mode": {
    "name": "ipython",
    "version": 3
   },
   "file_extension": ".py",
   "mimetype": "text/x-python",
   "name": "python",
   "nbconvert_exporter": "python",
   "pygments_lexer": "ipython3",
   "version": "3.7.12"
  },
  "papermill": {
   "default_parameters": {},
   "duration": 124.76521,
   "end_time": "2021-12-09T09:34:53.533575",
   "environment_variables": {},
   "exception": null,
   "input_path": "__notebook__.ipynb",
   "output_path": "__notebook__.ipynb",
   "parameters": {},
   "start_time": "2021-12-09T09:32:48.768365",
   "version": "2.3.3"
  }
 },
 "nbformat": 4,
 "nbformat_minor": 5
}
